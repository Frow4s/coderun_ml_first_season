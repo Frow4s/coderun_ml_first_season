{
 "cells": [
  {
   "cell_type": "markdown",
   "source": [
    "В данной задаче необходимо найти оптимальные константы с кучей дополнительных левых условий и огромным полотном текста в условии, это первые и основные трудности этой задачи помимо непосредственно поиска подхода к решению. Решение же сводится к вычислению производной функции потерь и приравниванию её к нулю, после чего необходимо выразить константу через элементы выборки.\n",
    "Формула оптимальной константы для MSE:\n",
    "\n",
    "$$\\frac{\\sum_{i=1}^{N}w_i*y_i}{\\sum_{i=1}^{N}w_i}$$\n",
    "\n",
    "Формула оптимальной константы для MSLE:\n",
    "\n",
    "$$e^{\\frac{\\sum_{i=1}^{N}w_i*log(y_i+1)}{\\sum_{i=1}^{N}w_i}}-1$$\n",
    "\n",
    "А для LogLoss я заметил, что значение оптимальной константы будем таким же как для MSE, в связи с чем решил оставить его таким, не считая производную, и это сработало)\n",
    "\n",
    "Остается только разобраться что есть что в рамках моих формул и в рамках условий задачи.\n",
    "\n",
    "$$w_i=b_i$$\n",
    "$$y_i=t_i=\\frac{a_i}{b_i}$$"
   ],
   "metadata": {
    "collapsed": false
   }
  },
  {
   "cell_type": "code",
   "execution_count": null,
   "outputs": [],
   "source": [
    "import numpy as np\n",
    "\n",
    "with open('input.txt','r') as f:\n",
    "    n,k = map(int,f.readline().split())\n",
    "    a,b = [],[]\n",
    "    for _ in range(n):\n",
    "        arr = list(map(float,f.readline().split()))\n",
    "        b.append(arr[-1])\n",
    "        a.append(arr[-2])\n",
    "\n",
    "t = []\n",
    "for i in range(len(a)):\n",
    "    t.append(a[i]/b[i])\n",
    "\n",
    "def optim_mse(y,w):\n",
    "    n = len(y)\n",
    "    denom = 0\n",
    "    numer = 0\n",
    "    for i in range(n):\n",
    "        numer += w[i]*y[i]\n",
    "        denom += w[i]\n",
    "    return numer/denom\n",
    "\n",
    "def optim_msle(y,w):\n",
    "    denom = 0\n",
    "    numer = 0\n",
    "    for i in range(len(y)):\n",
    "        numer += w[i]*np.log(y[i]+1)\n",
    "        denom += w[i]\n",
    "    return np.exp(numer/denom)-1\n",
    "\n",
    "print(optim_mse(t,b),optim_msle(t,b),optim_mse(t,b))"
   ],
   "metadata": {
    "collapsed": false
   }
  }
 ],
 "metadata": {
  "kernelspec": {
   "display_name": "Python 3",
   "language": "python",
   "name": "python3"
  },
  "language_info": {
   "codemirror_mode": {
    "name": "ipython",
    "version": 2
   },
   "file_extension": ".py",
   "mimetype": "text/x-python",
   "name": "python",
   "nbconvert_exporter": "python",
   "pygments_lexer": "ipython2",
   "version": "2.7.6"
  }
 },
 "nbformat": 4,
 "nbformat_minor": 0
}
