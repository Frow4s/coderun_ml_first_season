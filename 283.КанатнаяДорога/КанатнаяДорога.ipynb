{
 "cells": [
  {
   "cell_type": "markdown",
   "source": [
    "По моим личным ощущениям основная сложность данной задачи в том, чтобы корректно понять условие. Поэтому повторим:\n",
    "1. Все подряд идущие вершины соединены друг с другом (не важно больше следующая вершина или меньше, они соединены)\n",
    "2. Дополнительно каждая вершина соединена со следующей НЕ меньшей по высоте, то есть большей либо равной по высоте. То есть у нас есть вершины 1-2-3, 1 вершина больше 2, но меньше 3. Получается впадина с вершиной 2 внизу. Мы соединяем последовательно вершины 1-2-3, а также дополнительно соединяем вершины 1 и 3.\n",
    "\n",
    "Собственно далее в алгоритме именно это и реализовано, мы идем от вершины к вершине, считаем это расстояние, а также считаем дополнительно для тех вершин, которые больше предыдущих, но учитываем, чтобы это были не подряд идущие вершины (если это подряд идущие вершины, то мы вычитаем лишнее)."
   ],
   "metadata": {
    "collapsed": false
   }
  },
  {
   "cell_type": "code",
   "execution_count": null,
   "outputs": [],
   "source": [
    "import sys\n",
    "\n",
    "n = int(sys.stdin.readline())\n",
    "x_arr,y_arr = [],[]\n",
    "for _ in range(n):\n",
    "    a,b = map(int,sys.stdin.readline().split())\n",
    "    x_arr.append(a)\n",
    "    y_arr.append(b)\n",
    "\n",
    "def fast(x_arr,y_arr):\n",
    "    x_prev = 0\n",
    "    y_prev = 0\n",
    "    res = 0\n",
    "    stack = []\n",
    "    stack.append((x_arr[0],y_arr[0],0))\n",
    "    for i in range(len(x_arr)):\n",
    "        sled = (x_arr[i],y_arr[i],i)\n",
    "        if len(stack)!=0:\n",
    "            element = stack.pop()\n",
    "            while element[1]<=sled[1]:\n",
    "                res += ((element[0]-sled[0])**2+(element[1]-sled[1])**2)**0.5\n",
    "                if sled[2]-element[2] == 1:\n",
    "                    res -= ((element[0]-sled[0])**2+(element[1]-sled[1])**2)**0.5\n",
    "                if len(stack) == 0:\n",
    "                    break\n",
    "                element = stack.pop()\n",
    "            if element[1]>sled[1]:\n",
    "                stack.append(element)\n",
    "        stack.append(sled)\n",
    "        x = x_arr[i]\n",
    "        y = y_arr[i]\n",
    "        res += ((x-x_prev)**2+(y-y_prev)**2)**0.5\n",
    "        x_prev = x\n",
    "        y_prev = y\n",
    "\n",
    "\n",
    "    return res\n",
    "\n",
    "\n",
    "print(fast(x_arr,y_arr))"
   ],
   "metadata": {
    "collapsed": false
   }
  }
 ],
 "metadata": {
  "kernelspec": {
   "display_name": "Python 3",
   "language": "python",
   "name": "python3"
  },
  "language_info": {
   "codemirror_mode": {
    "name": "ipython",
    "version": 2
   },
   "file_extension": ".py",
   "mimetype": "text/x-python",
   "name": "python",
   "nbconvert_exporter": "python",
   "pygments_lexer": "ipython2",
   "version": "2.7.6"
  }
 },
 "nbformat": 4,
 "nbformat_minor": 0
}
