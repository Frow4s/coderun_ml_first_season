{
 "cells": [
  {
   "cell_type": "markdown",
   "source": [
    "Для решения это задачи необходимо знать формулу как из набора с повторениями получить всевозможные наборы длины n, где n - суммарное количество элементов в наборе.\n",
    "Формула:\n",
    "\n",
    "$$\\frac{n!}{n_1!*n_2!...n_k!}$$\n",
    "\n",
    "Далее нам необходимо из первоначального набора получить всевозможные комбинации заданных длин, а именно от 1 до len(исходный набор), в этом нам поможет combinations из itertools.\n",
    "Далее нам необходимо в этих наборах выделить уникальные, то есть отсортировать каждый набор и добавить в set.\n",
    "Дальше только остается применить вышеупомянутую формулу для каждого набора и получить ответ."
   ],
   "metadata": {
    "collapsed": false
   }
  },
  {
   "cell_type": "code",
   "execution_count": null,
   "outputs": [],
   "source": [
    "from itertools import combinations\n",
    "from collections import Counter\n",
    "import math\n",
    "\n",
    "in_s = input()\n",
    "\n",
    "dct = {}\n",
    "for i in range(1,len(in_s) + 1):\n",
    "    dct[i] = list(combinations(in_s,i))\n",
    "res_set = set()\n",
    "for v in dct.values():\n",
    "    for elem in v:\n",
    "        res_set.add(tuple(sorted(elem)))\n",
    "\n",
    "res = 0\n",
    "for elem in res_set:\n",
    "    denom = 1\n",
    "    n = math.factorial(len(elem))\n",
    "    cntr = Counter(elem)\n",
    "    for v in cntr.values():\n",
    "        denom *= math.factorial(v)\n",
    "    res += n/denom\n",
    "print(int(res))"
   ],
   "metadata": {
    "collapsed": false
   }
  }
 ],
 "metadata": {
  "kernelspec": {
   "display_name": "Python 3",
   "language": "python",
   "name": "python3"
  },
  "language_info": {
   "codemirror_mode": {
    "name": "ipython",
    "version": 2
   },
   "file_extension": ".py",
   "mimetype": "text/x-python",
   "name": "python",
   "nbconvert_exporter": "python",
   "pygments_lexer": "ipython2",
   "version": "2.7.6"
  }
 },
 "nbformat": 4,
 "nbformat_minor": 0
}
