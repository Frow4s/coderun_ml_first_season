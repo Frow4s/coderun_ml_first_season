{
 "cells": [
  {
   "cell_type": "markdown",
   "source": [
    "Недооцененная по сложности задача, решение которой хорошо описанно [тут](https://habr.com/ru/companies/yandex/articles/414997/). В итоге, я ориентировался на это же решение и подробнее не опишу. Возможно, кому-то будет понятнее мой код без использования классов (но вряд ли)."
   ],
   "metadata": {
    "collapsed": false
   }
  },
  {
   "cell_type": "code",
   "execution_count": null,
   "outputs": [],
   "source": [
    "import sys\n",
    "\n",
    "n = int(sys.stdin.readline())\n",
    "xy = []\n",
    "right_n = 0\n",
    "sum_right = 0\n",
    "right_sse = 0\n",
    "for _ in range(n):\n",
    "    x,y = map(float,sys.stdin.readline().split())\n",
    "    xy.append([x,y])\n",
    "    sum_right += y\n",
    "    right_n += 1\n",
    "    b = sum_right/right_n\n",
    "    right_diff = y - b\n",
    "    right_sse += right_diff*(y-b)\n",
    "\n",
    "\n",
    "xy.sort()\n",
    "\n",
    "a = 0\n",
    "sum_left = 0\n",
    "left_n = 0\n",
    "left_sse = 0\n",
    "\n",
    "min_mse = right_sse\n",
    "\n",
    "min_c = xy[0][0]\n",
    "min_b = sum_right/right_n\n",
    "min_a = 0\n",
    "\n",
    "for i in range(len(xy)-1):\n",
    "    cur_item = xy[i]\n",
    "    next_item = xy[i+1]\n",
    "    c = (cur_item[0]+next_item[0])/2\n",
    "    sum_left += cur_item[1]\n",
    "    sum_right -= cur_item[1]\n",
    "    left_n += 1\n",
    "    right_n -= 1\n",
    "    left_diff = cur_item[1] - a\n",
    "    right_diff = cur_item[1] - b\n",
    "    a = sum_left/left_n\n",
    "    b = sum_right/right_n\n",
    "    left_sse += left_diff*(cur_item[1]-a)\n",
    "    right_sse -= right_diff*(cur_item[1]-b)\n",
    "    if cur_item[0] == next_item[0]:\n",
    "        continue\n",
    "\n",
    "    temp_mse = left_sse + right_sse\n",
    "    if temp_mse<min_mse:\n",
    "        min_mse = temp_mse\n",
    "        min_a,min_b,min_c = a,b,c\n",
    "\n",
    "print(min_a,min_b,min_c)"
   ],
   "metadata": {
    "collapsed": false
   }
  }
 ],
 "metadata": {
  "kernelspec": {
   "display_name": "Python 3",
   "language": "python",
   "name": "python3"
  },
  "language_info": {
   "codemirror_mode": {
    "name": "ipython",
    "version": 2
   },
   "file_extension": ".py",
   "mimetype": "text/x-python",
   "name": "python",
   "nbconvert_exporter": "python",
   "pygments_lexer": "ipython2",
   "version": "2.7.6"
  }
 },
 "nbformat": 4,
 "nbformat_minor": 0
}
