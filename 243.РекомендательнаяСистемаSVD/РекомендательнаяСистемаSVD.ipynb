{
 "cells": [
  {
   "cell_type": "markdown",
   "source": [
    "В данной задаче нас буквально просят реализовать рекомендательную систему SVD, представленную Simon Funk во время легендарного соревнования от Netflix. Реализация алгоритма представлена в библиотеке [surprise](https://surprise.readthedocs.io/en/stable/matrix_factorization.html#surprise.prediction_algorithms.matrix_factorization.SVD). Однако, в рамках соревнований эта библиотека недоступна, а иными методами через scipy у меня реализовать не вышло, поэтому пришлось реализовывать представленные формулы собственными силами. В остальном, все как всегда, градиентный спуск, 5 эпох, learning rate и так далее. В моей реализации u = user, m = movie = item = i, в остальном формулы 1 в 1, как в исходной библиотеке."
   ],
   "metadata": {
    "collapsed": false
   }
  },
  {
   "cell_type": "code",
   "execution_count": null,
   "outputs": [],
   "source": [
    "import numpy as np\n",
    "\n",
    "f = open('input.txt','r')\n",
    "k,U,M,D,T = map(int,f.readline().split())\n",
    "u_data = []\n",
    "m_data = []\n",
    "r_data = []\n",
    "for i in range(D):\n",
    "    u,m,r = map(int,f.readline().split())\n",
    "    u_data.append(u)\n",
    "    m_data.append(m)\n",
    "    r_data.append(r)\n",
    "\n",
    "train = np.array(list(zip(u_data,m_data,r_data)))\n",
    "mu = train[:,2].mean()\n",
    "\n",
    "bu = np.zeros(U)\n",
    "bm = np.zeros(M)\n",
    "pu = np.random.normal(0, 0.1, (U, 20))\n",
    "qm = np.random.normal(0, 0.1, (M, 20))\n",
    "\n",
    "for _ in range(5):\n",
    "    for u, m, r in train:\n",
    "        err = r - (mu + bu[u] + bm[m] + qm[m] @ pu[u])\n",
    "\n",
    "        bu[u] += 0.02 * (err - 0.03 * bu[u])\n",
    "        bm[m] += 0.02 * (err - 0.03 * bm[m])\n",
    "        pu[u] += 0.02 * (err * qm[m] - 0.03 * pu[u])\n",
    "        qm[m] += 0.02 * (err * pu[u] - 0.03 * qm[m])\n",
    "\n",
    "for i in range(T):\n",
    "    u,m = map(int,f.readline().split())\n",
    "    r = mu + bu[u] + bm[m] + qm[m] @ pu[u]\n",
    "    print(r)"
   ],
   "metadata": {
    "collapsed": false
   }
  }
 ],
 "metadata": {
  "kernelspec": {
   "display_name": "Python 3",
   "language": "python",
   "name": "python3"
  },
  "language_info": {
   "codemirror_mode": {
    "name": "ipython",
    "version": 2
   },
   "file_extension": ".py",
   "mimetype": "text/x-python",
   "name": "python",
   "nbconvert_exporter": "python",
   "pygments_lexer": "ipython2",
   "version": "2.7.6"
  }
 },
 "nbformat": 4,
 "nbformat_minor": 0
}
