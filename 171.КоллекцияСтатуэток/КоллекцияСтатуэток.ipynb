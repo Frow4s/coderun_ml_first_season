{
 "cells": [
  {
   "cell_type": "markdown",
   "source": [
    "В данной задаче используется метод скользящего окна, в котором мы стремимся поддерживать необходимое количество статуэток (минимум по 1 каждого типа), а также при наличии всех элементов в наборе стремимся минимизировать сумму элементов, удаляя лишние элементы слева. Окно представлено в виде очереди, количество необходимых элементов в окне хранится в словаре, текущая сумма и минимально возможная представлены соответствующими переменными."
   ],
   "metadata": {
    "collapsed": false
   }
  },
  {
   "cell_type": "code",
   "execution_count": null,
   "outputs": [],
   "source": [
    "from collections import deque\n",
    "import math\n",
    "with open('input.txt','r') as f:\n",
    "    n,k = map(int,f.readline().split())\n",
    "    arr = list(map(int,f.readline().split()))\n",
    "\n",
    "needed_set = set([i for i in range(1,k+1)])\n",
    "cur_sum = 0\n",
    "min_sum = math.inf\n",
    "deq = deque()\n",
    "dct = {}\n",
    "for i in arr:\n",
    "    if len(dct) < k:\n",
    "        cur_sum += i\n",
    "        deq.append(i)\n",
    "        if i in needed_set:\n",
    "            dct[i] = dct.get(i,0) + 1\n",
    "        if len(dct) == k:\n",
    "            while True:\n",
    "                cur = deq[0]\n",
    "                if cur not in dct or dct[cur] > 1:\n",
    "                    deq.popleft()\n",
    "                    cur_sum -= cur\n",
    "                    if cur in dct:\n",
    "                        dct[cur] -= 1\n",
    "                else:\n",
    "                    break\n",
    "    else:\n",
    "        if i in needed_set:\n",
    "            cur_sum += i\n",
    "            deq.append(i)\n",
    "            dct[i] = dct.get(i,0) + 1\n",
    "            while deq:\n",
    "                cur = deq[0]\n",
    "                if cur not in dct or dct[cur] > 1:\n",
    "                    deq.popleft()\n",
    "                    cur_sum -= cur\n",
    "                    if cur in dct:\n",
    "                        dct[cur] -= 1\n",
    "                else:\n",
    "                    break\n",
    "        else:\n",
    "            cur_sum += i\n",
    "            deq.append(i)\n",
    "    if cur_sum < min_sum and len(dct) == k:\n",
    "        min_sum = cur_sum\n",
    "\n",
    "print(min_sum)"
   ],
   "metadata": {
    "collapsed": false
   }
  }
 ],
 "metadata": {
  "kernelspec": {
   "display_name": "Python 3",
   "language": "python",
   "name": "python3"
  },
  "language_info": {
   "codemirror_mode": {
    "name": "ipython",
    "version": 2
   },
   "file_extension": ".py",
   "mimetype": "text/x-python",
   "name": "python",
   "nbconvert_exporter": "python",
   "pygments_lexer": "ipython2",
   "version": "2.7.6"
  }
 },
 "nbformat": 4,
 "nbformat_minor": 0
}
