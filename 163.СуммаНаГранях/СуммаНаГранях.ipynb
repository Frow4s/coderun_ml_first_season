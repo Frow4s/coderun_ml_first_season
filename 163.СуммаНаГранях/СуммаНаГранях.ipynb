{
 "cells": [
  {
   "cell_type": "markdown",
   "source": [
    "В данной задаче после наивного подсчета математического ожидания нам необходимо вычесть случаи, которые неоправданно увеличивают нашу статистику, что и происходит в двух циклах, в которых считаются частоты символов и на основе этих частот, а также их значений уменьшается математическое ожидание в соответствии с условием задачи."
   ],
   "metadata": {
    "collapsed": false
   }
  },
  {
   "cell_type": "code",
   "execution_count": null,
   "metadata": {
    "collapsed": true
   },
   "outputs": [],
   "source": [
    "import numpy as np\n",
    "from collections import Counter\n",
    "\n",
    "data = []\n",
    "with open('input.txt', 'r') as f:\n",
    "    for i in f.readline().split():\n",
    "        data.append(float(i))\n",
    "    k = int(f.readline())\n",
    "\n",
    "cnt = Counter(data)\n",
    "Mx = np.mean(data)*k\n",
    "Mx_a = 0\n",
    "\n",
    "for key,v in cnt.items():\n",
    "    cnt[key] = v/len(data)\n",
    "\n",
    "for key,v in cnt.items():\n",
    "    Mx_a += (k-1)*key*cnt[key]**2\n",
    "\n",
    "Mx -= Mx_a\n",
    "\n",
    "with open(\"output.txt\", \"w\") as file:\n",
    "    file.write(str(Mx))"
   ]
  }
 ],
 "metadata": {
  "kernelspec": {
   "display_name": "Python 3",
   "language": "python",
   "name": "python3"
  },
  "language_info": {
   "codemirror_mode": {
    "name": "ipython",
    "version": 2
   },
   "file_extension": ".py",
   "mimetype": "text/x-python",
   "name": "python",
   "nbconvert_exporter": "python",
   "pygments_lexer": "ipython2",
   "version": "2.7.6"
  }
 },
 "nbformat": 4,
 "nbformat_minor": 0
}
