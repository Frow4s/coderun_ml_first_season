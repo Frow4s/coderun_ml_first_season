{
 "cells": [
  {
   "cell_type": "markdown",
   "source": [
    "В данной задаче, к сожалению, не сработали никакие из методов кластеризации, представленные в sklearn, а также не были найдены какие-либо способы кластеризации цепей Маркова, да и в целом не были найдены никакие зацепки, кроме алгоритма, представленного в [данной статье](https://habr.com/ru/companies/yandex/articles/461273/)."
   ],
   "metadata": {
    "collapsed": false
   }
  },
  {
   "cell_type": "code",
   "execution_count": null,
   "outputs": [],
   "source": [
    "import math\n",
    "import random\n",
    "\n",
    "with open('input.txt') as f:\n",
    "    N, K = list(map(int, f.readline().split()))\n",
    "    data = []\n",
    "    alphabet = list(f.readline()) + ['']\n",
    "    for _ in range(N):\n",
    "        data.append(f.readline())\n",
    "\n",
    "alphabet_len = len(alphabet)\n",
    "data_len = len(data)\n",
    "samples = [tuple([alphabet.index(token) for token in s] + [alphabet_len - 1, alphabet_len - 1]) for s in data]\n",
    "probs = [random.random() for _ in range(data_len)]\n",
    "\n",
    "def normalized_row(row):\n",
    "    row_sum = sum(row) + 1e-9\n",
    "    return [x / row_sum for x in row]\n",
    "\n",
    "def normalized_matrix(matrix):\n",
    "    return [normalized_row(row) for row in matrix]\n",
    "\n",
    "for _ in range(150):\n",
    "    old_probs = probs[:]\n",
    "    p0, A = [0] * alphabet_len, [[0 for _ in range(alphabet_len)] for _ in range(alphabet_len)]\n",
    "    q0, B = [0] * alphabet_len, [[0 for _ in range(alphabet_len)] for _ in range(alphabet_len)]\n",
    "    for prob, sample in zip(probs, samples):\n",
    "        p0[sample[0]] += prob\n",
    "        q0[sample[0]] += 1 - prob\n",
    "        for t1, t2 in zip(sample[:-1], sample[1:]):\n",
    "            A[t1][t2] += prob\n",
    "            B[t1][t2] += 1 - prob\n",
    "\n",
    "    A, p0 = normalized_matrix(A), normalized_row(p0)\n",
    "    B, q0 = normalized_matrix(B), normalized_row(q0)\n",
    "\n",
    "    log_diff = [[math.log(b + 1e-9) - math.log(a + 1e-9) for b, a in zip(B_r, A_r)] for B_r, A_r in zip(B, A)]\n",
    "\n",
    "    probs = [0] * data_len\n",
    "    for i, sample in enumerate(samples):\n",
    "        value = math.log(q0[sample[0]] + 1e-9) - math.log(p0[sample[0]] + 1e-9)\n",
    "        for t1, t2 in zip(sample[:-1], sample[1:]):\n",
    "            value += log_diff[t1][t2]\n",
    "        probs[i] = 1.0 / (1.0 + math.exp(value))\n",
    "\n",
    "\n",
    "for res in probs:\n",
    "    print(int(res >= 0.5))"
   ],
   "metadata": {
    "collapsed": false
   }
  }
 ],
 "metadata": {
  "kernelspec": {
   "display_name": "Python 3",
   "language": "python",
   "name": "python3"
  },
  "language_info": {
   "codemirror_mode": {
    "name": "ipython",
    "version": 2
   },
   "file_extension": ".py",
   "mimetype": "text/x-python",
   "name": "python",
   "nbconvert_exporter": "python",
   "pygments_lexer": "ipython2",
   "version": "2.7.6"
  }
 },
 "nbformat": 4,
 "nbformat_minor": 0
}
