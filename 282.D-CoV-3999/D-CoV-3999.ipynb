{
 "cells": [
  {
   "cell_type": "markdown",
   "source": [
    "В данной задаче основная идея была в том, чтобы представить встречи в виде словаря, где ключ - это порядковый номер встречи, а значение - множество работников, которые присутствуют на встрече.\n",
    " Далее мы сортируем встречи по их порядку, а затем от встречи к встрече проверяем есть ли на текущей встрече заболевший сотрудник, если такой сотрудник есть, то мы всех участников записываем в больные и переходим к следующей встрече, на которой алгоритм повторяется."
   ],
   "metadata": {
    "collapsed": false
   }
  },
  {
   "cell_type": "code",
   "execution_count": 14,
   "metadata": {
    "collapsed": true
   },
   "outputs": [
    {
     "name": "stdout",
     "output_type": "stream",
     "text": [
      "1 1 0 1\n"
     ]
    }
   ],
   "source": [
    "with open('input.txt','r') as f:\n",
    "    n = int(f.readline())\n",
    "    tests = list(map(int,f.readline().split()))\n",
    "    ill = set()\n",
    "    for index,val in enumerate(tests):\n",
    "        if val:\n",
    "            ill.add(index)\n",
    "    meetings = {}\n",
    "    for i in range(n):\n",
    "        row = list(map(int,f.readline().split()))\n",
    "        for meet in row[1:]:\n",
    "            if meet in meetings:\n",
    "                meetings[meet].add(i)\n",
    "            else:\n",
    "                meetings[meet] = set([i])\n",
    "\n",
    "for key in sorted(meetings.keys()):\n",
    "    if meetings[key]&ill:\n",
    "        ill.update(meetings[key])\n",
    "res = []\n",
    "for i in range(n):\n",
    "    if i in ill:\n",
    "        res.append(1)\n",
    "    else:\n",
    "        res.append(0)\n",
    "print(' '.join([str(i) for i in res]))"
   ]
  }
 ],
 "metadata": {
  "kernelspec": {
   "display_name": "Python 3",
   "language": "python",
   "name": "python3"
  },
  "language_info": {
   "codemirror_mode": {
    "name": "ipython",
    "version": 2
   },
   "file_extension": ".py",
   "mimetype": "text/x-python",
   "name": "python",
   "nbconvert_exporter": "python",
   "pygments_lexer": "ipython2",
   "version": "2.7.6"
  }
 },
 "nbformat": 4,
 "nbformat_minor": 0
}
