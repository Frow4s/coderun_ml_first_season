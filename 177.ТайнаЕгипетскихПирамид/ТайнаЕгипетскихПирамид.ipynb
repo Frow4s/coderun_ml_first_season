{
 "cells": [
  {
   "cell_type": "markdown",
   "source": [
    "В данной задаче нам необходимо подобрать коэффициенты так, чтобы функция давала как можно близкий результат к истинному значению. Вспомните обычную линейную регрессию, как на обучающих картинках с 1 входной переменной и одной выходной, и/или функцию f(x)=kx+b, здесь все тоже самое, только больше коэффицентов и функция выглядит сложнее. Чтобы решать подобные задачи можно пользоваться модулем scipy.optimize, в данном случае методом curve_fit, который использует нелинейный метод наименьших квадратов для того, чтобы подобрать коэффициенты функции для наших данных."
   ],
   "metadata": {
    "collapsed": false
   }
  },
  {
   "cell_type": "code",
   "execution_count": null,
   "metadata": {
    "collapsed": true
   },
   "outputs": [],
   "source": [
    "from scipy.optimize import curve_fit\n",
    "import numpy as np\n",
    "\n",
    "with open('input.txt','r') as f:\n",
    "    n = int(f.readline())\n",
    "    x = []\n",
    "    y = []\n",
    "    for _ in range(n):\n",
    "        a,b = map(float,f.readline().split())\n",
    "        x.append(a)\n",
    "        y.append(b)\n",
    "\n",
    "def f(x,a,b,c,d):\n",
    "    res = a*np.tan(x)+(b*np.sin(x)+c*np.cos(x))**2 + d*np.sqrt(x)\n",
    "    return res\n",
    "(a,b,c,d),_ = curve_fit(f,np.array(x),np.array(y))\n",
    "print(np.round(a,2),np.round(b,2),np.round(c,2),np.round(d,2))"
   ]
  }
 ],
 "metadata": {
  "kernelspec": {
   "display_name": "Python 3",
   "language": "python",
   "name": "python3"
  },
  "language_info": {
   "codemirror_mode": {
    "name": "ipython",
    "version": 2
   },
   "file_extension": ".py",
   "mimetype": "text/x-python",
   "name": "python",
   "nbconvert_exporter": "python",
   "pygments_lexer": "ipython2",
   "version": "2.7.6"
  }
 },
 "nbformat": 4,
 "nbformat_minor": 0
}
