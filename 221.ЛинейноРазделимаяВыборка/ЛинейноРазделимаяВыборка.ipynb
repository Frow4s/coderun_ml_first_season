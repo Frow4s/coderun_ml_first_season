{
 "cells": [
  {
   "cell_type": "markdown",
   "source": [
    "В данной задаче надо построить разделяющую плоскость, а какой алгоритм машинного обучения строит разделяющие плоскости? Правильно, SVM и его производные, в данном случае SVR, а точнее LinearSVR, потому что sklearn для него обещает больше возможностей и масштабирование на большое количество значений (вдруг в тестах будет что-то большое). Смещения у нас нет, поэтому fit_intercept=False, а количество итераций выбрано, чтобы не было TL.\n",
    "\n",
    "P.S. На момент сдачи в этой задаче нельзя было считывать из input.txt, поэтому ввод через sys.stdin"
   ],
   "metadata": {
    "collapsed": false
   }
  },
  {
   "cell_type": "code",
   "execution_count": null,
   "outputs": [],
   "source": [
    "from sklearn.svm import LinearSVR\n",
    "import sys\n",
    "\n",
    "n,m = map(int,sys.stdin.readline().split())\n",
    "x = []\n",
    "y = []\n",
    "for _ in range(n):\n",
    "    inp = list(map(float,sys.stdin.readline().split()))\n",
    "    x.append(inp[:m])\n",
    "    y.append([inp[-1]])\n",
    "\n",
    "cls = LinearSVR(fit_intercept=False,max_iter=500)\n",
    "cls.fit(x,y)\n",
    "print(*cls.coef_)"
   ],
   "metadata": {
    "collapsed": false
   }
  }
 ],
 "metadata": {
  "kernelspec": {
   "display_name": "Python 3",
   "language": "python",
   "name": "python3"
  },
  "language_info": {
   "codemirror_mode": {
    "name": "ipython",
    "version": 2
   },
   "file_extension": ".py",
   "mimetype": "text/x-python",
   "name": "python",
   "nbconvert_exporter": "python",
   "pygments_lexer": "ipython2",
   "version": "2.7.6"
  }
 },
 "nbformat": 4,
 "nbformat_minor": 0
}
