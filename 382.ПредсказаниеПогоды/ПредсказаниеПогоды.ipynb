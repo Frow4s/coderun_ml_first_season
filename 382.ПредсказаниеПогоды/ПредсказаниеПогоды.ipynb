{
 "cells": [
  {
   "cell_type": "markdown",
   "source": [
    "В данной задаче мы пытаемся предсказывать временные ряды. Я, к сожалению, не настолько осведомлен в них, насколько хотелось бы, поэтому далее я выскажу некоторые предположения полученные в поисках решения. Я немного знаком с авторегрессионными моделями и с удовольствием бы применил одну из библиотек в этой задаче, но ни одной из них не представлено в предоставляемом комплияторе. В связи с чем для предсказания погоды в следующий день использовались данные с лагом в два дня (т.е. за два предыдущих дня) с различными весами. А затем полученные значения корректировались с учетом \"сезонности\" в 365 дня, т.е. полученное значение использовалось с весом 0.9, а значение, которое было год назад с весом 0.1. Это позволило достичь необходимого качества модели."
   ],
   "metadata": {
    "collapsed": false
   }
  },
  {
   "cell_type": "code",
   "execution_count": null,
   "outputs": [],
   "source": [
    "n = int(input())\n",
    "\n",
    "data = []\n",
    "for i in range(n):\n",
    "    data.append(float(input()))\n",
    "\n",
    "m = int(input())\n",
    "\n",
    "for i in range(m):\n",
    "    alpha = 0.95\n",
    "    betta = 0.9\n",
    "    new_temp = data[-1] * alpha + (1 - alpha) * data[-2]\n",
    "    new_temp = betta * new_temp + (1 - betta) * data[i]\n",
    "    print(new_temp)\n",
    "    real_temp = float(input())\n",
    "    data.append(real_temp)"
   ],
   "metadata": {
    "collapsed": false
   }
  }
 ],
 "metadata": {
  "kernelspec": {
   "display_name": "Python 3",
   "language": "python",
   "name": "python3"
  },
  "language_info": {
   "codemirror_mode": {
    "name": "ipython",
    "version": 2
   },
   "file_extension": ".py",
   "mimetype": "text/x-python",
   "name": "python",
   "nbconvert_exporter": "python",
   "pygments_lexer": "ipython2",
   "version": "2.7.6"
  }
 },
 "nbformat": 4,
 "nbformat_minor": 0
}
