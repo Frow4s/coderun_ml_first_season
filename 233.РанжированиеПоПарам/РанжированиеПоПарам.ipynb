{
 "cells": [
  {
   "cell_type": "markdown",
   "source": [
    "В данной задаче я сошлюсь на органичное решение и описание решения для ML Blitz 2018, представленное [тут](https://github.com/stas-sl/yandex-blitz-ml-2018#m-pairwise-ranking)."
   ],
   "metadata": {
    "collapsed": false
   }
  },
  {
   "cell_type": "code",
   "execution_count": null,
   "metadata": {
    "collapsed": true
   },
   "outputs": [],
   "source": [
    "import numpy as np\n",
    "\n",
    "with open('input.txt','r') as f:\n",
    "    n,m = map(int,f.readline().split())\n",
    "    data = []\n",
    "    for i in range(m):\n",
    "        a1,a2 = map(int,f.readline().split())\n",
    "        data.append([a1,a2])\n",
    "\n",
    "data = np.array(data)\n",
    "w = np.ones(n)\n",
    "x = np.zeros((m, n))\n",
    "if m >= 1:\n",
    "    x[np.arange(m), data[:, 0] - 1] = 1\n",
    "    x[np.arange(m), data[:, 1] - 1] = -1\n",
    "v = np.zeros_like(w)\n",
    "for i in range(1000):\n",
    "    z = w @ x.T\n",
    "    h = 1 / (1 + np.exp(-z))\n",
    "    gradient = x.T @ (h - 1) / m\n",
    "    v = 0.99 * v + gradient\n",
    "    w -= v\n",
    "\n",
    "print(*(w.argsort()[::-1] + 1),sep='\\n')"
   ]
  }
 ],
 "metadata": {
  "kernelspec": {
   "display_name": "Python 3",
   "language": "python",
   "name": "python3"
  },
  "language_info": {
   "codemirror_mode": {
    "name": "ipython",
    "version": 2
   },
   "file_extension": ".py",
   "mimetype": "text/x-python",
   "name": "python",
   "nbconvert_exporter": "python",
   "pygments_lexer": "ipython2",
   "version": "2.7.6"
  }
 },
 "nbformat": 4,
 "nbformat_minor": 0
}
