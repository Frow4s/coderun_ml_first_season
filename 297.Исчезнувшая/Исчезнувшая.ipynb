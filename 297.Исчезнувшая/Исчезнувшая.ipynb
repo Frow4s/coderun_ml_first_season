{
 "cells": [
  {
   "cell_type": "markdown",
   "source": [
    "В данной задаче нам необходимо найти матрицу внутри другой матрицы, они могут быть равны по размерам, могут быть не равны, а также могут быть повернуты на 0,90,180,270 градусов, т.е. нам будет необходимо рассмотреть 4 случая.\n",
    "Можно проверять каждый элемент по отдельности, но возникнет сложность N^4^ и мы получим TL на одном из последних тестов.\n",
    "Чтобы ускорить алгоритм я поступил следующим образом:\n",
    "1. Каждый искомый ряд символов был сохранен в виде строки и хэширован, получился вектор длины n1\n",
    "2. Далее последовательность длины m1 по столбцам в матрице 2 (по которой происходит поиск) преобразовывалась в строку, строка хэшировалась. Затем хэш сравнивался с первым хэшем вектора из 1 пункта.\n",
    "3. Если хэши равны, то мы переходим во второй цикл, где сравниваем все остальные хэши аналогично второму пункту двигаясь вниз по рядам, но не двигаясь по столбцам. Если хэши не равны, то сдвигаемся по столбцу и переходим к пункту 2.\n",
    "4. Если по столбцу сдвигаться уже некуда, то сдвигаемся по ряду.\n",
    "5. Если по ряду сдвигаться некуда, то выходим из цикла и возвращаем False\n",
    "6. Повторяем пункты 1-5 для всех вариантов поворотов искомой матрицы, если не находим выводим No, если находим выводим Yes"
   ],
   "metadata": {
    "collapsed": false
   }
  },
  {
   "cell_type": "code",
   "execution_count": null,
   "outputs": [],
   "source": [
    "with open(\"input.txt\", \"r\") as f:\n",
    "    image = f.read().splitlines()\n",
    "\n",
    "n,_ = map(int,image[0].split())\n",
    "arr1 = image[1:n+1]\n",
    "n2,_ = map(int,image[n+1].split())\n",
    "arr2 = image[n+2:n+1+n2+1]\n",
    "rot_90 = []\n",
    "for i in range(len(arr1[0])):\n",
    "    li = list(map(lambda x: x[i], arr1))\n",
    "    li.reverse()\n",
    "    rot_90.append(''.join(li))\n",
    "\n",
    "rot_180 = []\n",
    "for i in range(len(arr1)):\n",
    "    li = list(map(lambda x: x[i], rot_90))\n",
    "    li.reverse()\n",
    "    rot_180.append(''.join(li))\n",
    "\n",
    "rot_270 = [''.join(c) for c in list(zip(*arr1))[::-1]]\n",
    "\n",
    "def is_subarray(sub, arr):\n",
    "    rows_sub, cols_sub = len(sub), len(sub[0])\n",
    "    rows_arr, cols_arr = len(arr), len(arr[0])\n",
    "    sub_hashes = [hash(i) for i in sub]\n",
    "    for i in range(rows_arr - rows_sub + 1):\n",
    "        isMatch= False\n",
    "        cntr = 0\n",
    "        for j in range(cols_arr - cols_sub + 1):\n",
    "            if hash(arr[i][j:j+cols_sub]) == sub_hashes[0]:\n",
    "                isMatch = True\n",
    "                last_j =  j\n",
    "                cntr += 1\n",
    "                break\n",
    "        if isMatch:\n",
    "            for k in range(i+1,i+rows_sub):\n",
    "                if hash(arr[k][last_j:last_j+cols_sub])==sub_hashes[cntr]:\n",
    "                    cntr += 1\n",
    "                else:\n",
    "                    break\n",
    "            else:\n",
    "                return True\n",
    "    return False\n",
    "\n",
    "if is_subarray(arr1,arr2):\n",
    "    print('Yes')\n",
    "elif is_subarray(rot_90,arr2):\n",
    "    print('Yes')\n",
    "elif is_subarray(rot_180,arr2):\n",
    "    print('Yes')\n",
    "elif is_subarray(rot_270,arr2):\n",
    "    print('Yes')\n",
    "else:\n",
    "    print('No')"
   ],
   "metadata": {
    "collapsed": false
   }
  }
 ],
 "metadata": {
  "kernelspec": {
   "display_name": "Python 3",
   "language": "python",
   "name": "python3"
  },
  "language_info": {
   "codemirror_mode": {
    "name": "ipython",
    "version": 2
   },
   "file_extension": ".py",
   "mimetype": "text/x-python",
   "name": "python",
   "nbconvert_exporter": "python",
   "pygments_lexer": "ipython2",
   "version": "2.7.6"
  }
 },
 "nbformat": 4,
 "nbformat_minor": 0
}
