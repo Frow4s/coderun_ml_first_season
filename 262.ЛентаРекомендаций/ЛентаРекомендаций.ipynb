{
 "cells": [
  {
   "cell_type": "markdown",
   "source": [
    "Данную задачу можно решить, выбирая наиболее релевантный объект из возможных, что и реализовано в коде ниже. Т.е. пока мы можем мы добавляем объект и переходим к следующему, а если не можем добавить, то добавляем очередной объект в лист ожидания (repeat), из которого достаем как только появляется возможность, а на текущем шаге переходим к следующему"
   ],
   "metadata": {
    "collapsed": false
   }
  },
  {
   "cell_type": "code",
   "execution_count": 17,
   "metadata": {
    "collapsed": true
   },
   "outputs": [
    {
     "name": "stdout",
     "output_type": "stream",
     "text": [
      "0 3 1 4 2 6 5\n"
     ]
    }
   ],
   "source": [
    "from collections import deque\n",
    "with open('input.txt') as f:\n",
    "    n,m = map(int, f.readline().split())\n",
    "    inp_arr = [int(f.readline()) for _ in range(n)]\n",
    "\n",
    "res = []\n",
    "repeat = deque()\n",
    "for i in range(n):\n",
    "    if len(res) == 0 or inp_arr[res[-1]] != inp_arr[i]:\n",
    "        res.append(i)\n",
    "        if len(repeat) != 0 and inp_arr[repeat[0]] != inp_arr[res[-1]]:\n",
    "            res.append(repeat[0])\n",
    "            repeat.popleft()\n",
    "    else:\n",
    "        repeat.append(i)\n",
    "\n",
    "print(' '.join([str(i) for i in res]))"
   ]
  }
 ],
 "metadata": {
  "kernelspec": {
   "display_name": "Python 3",
   "language": "python",
   "name": "python3"
  },
  "language_info": {
   "codemirror_mode": {
    "name": "ipython",
    "version": 2
   },
   "file_extension": ".py",
   "mimetype": "text/x-python",
   "name": "python",
   "nbconvert_exporter": "python",
   "pygments_lexer": "ipython2",
   "version": "2.7.6"
  }
 },
 "nbformat": 4,
 "nbformat_minor": 0
}
