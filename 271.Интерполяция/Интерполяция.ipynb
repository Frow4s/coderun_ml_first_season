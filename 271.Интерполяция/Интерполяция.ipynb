{
 "cells": [
  {
   "cell_type": "markdown",
   "source": [
    "В данной задаче нам предстоит подобрать коэффициента для многочлена 2 степени от 5 переменных, чтобы это сделать можно воспользоваться PolynomialFeatures, который сгенерирует необходимые комбинации переменных (на основе входного набора значений переменных), которые соответствуют элементам (одночленам) многочлена 2 степени, а LinearRegression подберет коэффициенты для каждого элемента (одночлена).\n",
    "\n",
    "Как работает PolynomialFeatures для 2 степени для 2-ух переменных:\n",
    "На вход подаются значения [x,y]\n",
    "На выходе получаете [1, x, y, x^2^, xy, xy^2^]"
   ],
   "metadata": {
    "collapsed": false
   }
  },
  {
   "cell_type": "code",
   "execution_count": null,
   "metadata": {
    "collapsed": true
   },
   "outputs": [],
   "source": [
    "import numpy as np\n",
    "from sklearn.preprocessing import PolynomialFeatures\n",
    "from sklearn.linear_model import LinearRegression\n",
    "\n",
    "degree = 2\n",
    "\n",
    "data = []\n",
    "test_data = []\n",
    "with open('input.txt', 'r') as f:\n",
    "    for _ in range(1000):\n",
    "        data.append([float(x) for x in f.readline().split('\\t')])\n",
    "    for _ in range(1000):\n",
    "        test_data.append([float(x) for x in f.readline().split('\\t')])\n",
    "\n",
    "data = np.array(data)\n",
    "test_data = np.array(test_data)\n",
    "xdata = data[:, :-1]\n",
    "ydata = data[:, -1]\n",
    "\n",
    "poly_model = PolynomialFeatures(degree=degree)\n",
    "poly_x_values = poly_model.fit_transform(xdata)\n",
    "\n",
    "regression_model = LinearRegression()\n",
    "regression_model.fit(poly_x_values, ydata)\n",
    "\n",
    "y_pred = regression_model.predict(poly_model.transform(test_data))\n",
    "\n",
    "np.savetxt('output.txt', y_pred)"
   ]
  }
 ],
 "metadata": {
  "kernelspec": {
   "display_name": "Python 3",
   "language": "python",
   "name": "python3"
  },
  "language_info": {
   "codemirror_mode": {
    "name": "ipython",
    "version": 2
   },
   "file_extension": ".py",
   "mimetype": "text/x-python",
   "name": "python",
   "nbconvert_exporter": "python",
   "pygments_lexer": "ipython2",
   "version": "2.7.6"
  }
 },
 "nbformat": 4,
 "nbformat_minor": 0
}
