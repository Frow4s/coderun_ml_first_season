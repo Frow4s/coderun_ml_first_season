{
 "cells": [
  {
   "cell_type": "markdown",
   "source": [
    "В данной задаче необходимо оценить мощность множества затратив на это небольшое количество памяти и времени (до 5с, до 5 мб). Я использовал алгоритм LinearCounting, поскольку он подходит для условий задачи, а именно, что мощность множества до 500 000. У HyperLogLog, например, на таких значениях получается большая ошибка, за допустимыми границами, и мои попытки решения с ним не увенчались успехом. Более подробно про HyperLogLog и LinearCounting можно почитать [тут](https://habr.com/ru/companies/vk/articles/711126/), свои идеи я черпал из этой же статьи."
   ],
   "metadata": {
    "collapsed": false
   }
  },
  {
   "cell_type": "code",
   "execution_count": null,
   "metadata": {
    "collapsed": true
   },
   "outputs": [],
   "source": [
    "import sys\n",
    "import hashlib\n",
    "import math\n",
    "\n",
    "n = int(sys.stdin.readline())\n",
    "m = 2 ** 14\n",
    "M = [0] * m\n",
    "\n",
    "\n",
    "for i in range(n):\n",
    "    x = hashlib.sha256(str.encode(sys.stdin.readline().strip())).digest()[:4]\n",
    "    idx = int.from_bytes(x, byteorder='little') % m\n",
    "    M[idx] = 1\n",
    "\n",
    "\n",
    "print(m * math.log(m / M.count(0)))"
   ]
  }
 ],
 "metadata": {
  "kernelspec": {
   "display_name": "Python 3",
   "language": "python",
   "name": "python3"
  },
  "language_info": {
   "codemirror_mode": {
    "name": "ipython",
    "version": 2
   },
   "file_extension": ".py",
   "mimetype": "text/x-python",
   "name": "python",
   "nbconvert_exporter": "python",
   "pygments_lexer": "ipython2",
   "version": "2.7.6"
  }
 },
 "nbformat": 4,
 "nbformat_minor": 0
}
