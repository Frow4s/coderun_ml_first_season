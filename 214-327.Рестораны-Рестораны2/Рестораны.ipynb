{
 "cells": [
  {
   "cell_type": "markdown",
   "source": [
    "В качестве итогового подхода к данной задаче я решил использовать решение через непосредственно минимизацию целевой функции без каких-либо углублений в нюансы (такие как то, что на самом деле наш лосс это лосс для логистической регрессии и т.д.). В итоге нам просто нужно минимизировать функцию потерь до требуемого уровня, а затем написать функции для оценивания на новых входных данных.\n",
    "Из особенностей данных здесь можно заметить, что гистограммы значений признаков имеют так называемую ассиметрию (skewness), в нашем случае мы видим оба типа ассиметри, а именно положительную и отрицательную. [По этой ссылке](https://www.kaggle.com/code/setu06/handling-with-highly-skewed-data-set) можно почитать о том что это такое и как с этим бороться, также в интернете много статей по этому поводу.\n",
    "Для себя я выбрал логарифмирование и возведение в степень, чтобы избавиться от ассиметрии.\n",
    "Также данные были нормированы по аналогии с StandardScaler из библиотеки sklearn. (Думаю можно использовать и непосредственно его, но мне было удобнее своими силами написать, благо формула тривиальная)\n"
   ],
   "metadata": {
    "collapsed": false
   }
  },
  {
   "cell_type": "code",
   "execution_count": 27,
   "metadata": {
    "collapsed": true
   },
   "outputs": [],
   "source": [
    "import numpy as np\n",
    "import pandas as pd\n",
    "import matplotlib.pyplot as plt\n",
    "df = pd.read_table('restaurants_train.txt',header=None)"
   ]
  },
  {
   "cell_type": "code",
   "execution_count": 28,
   "outputs": [],
   "source": [
    "df = df.rename({0:'y',\n",
    "                    1:'r1',\n",
    "                    2:'r2',\n",
    "                    3:'d1',\n",
    "                    4:'d2'},axis=1)"
   ],
   "metadata": {
    "collapsed": false
   }
  },
  {
   "cell_type": "code",
   "execution_count": 29,
   "outputs": [],
   "source": [
    "r_mean = df[(df['r1']!=-1)&(df['r2']!=-1)][['r1','r2']].values.mean()\n",
    "\n",
    "df.r1 = np.where(df.r1==-1,r_mean,df.r1)\n",
    "df.r2 = np.where(df.r2==-1,r_mean,df.r2)"
   ],
   "metadata": {
    "collapsed": false
   }
  },
  {
   "cell_type": "code",
   "execution_count": 30,
   "outputs": [
    {
     "data": {
      "text/plain": "<Figure size 640x480 with 1 Axes>",
      "image/png": "[encoded data removed]"
     },
     "metadata": {},
     "output_type": "display_data"
    }
   ],
   "source": [
    "plt.hist(df[['r1','r2']].values.reshape(-1,1))\n",
    "plt.show()"
   ],
   "metadata": {
    "collapsed": false
   }
  },
  {
   "cell_type": "code",
   "execution_count": 31,
   "outputs": [
    {
     "data": {
      "text/plain": "<Figure size 640x480 with 1 Axes>",
      "image/png": "[encoded data removed]"
     },
     "metadata": {},
     "output_type": "display_data"
    }
   ],
   "source": [
    "plt.hist(df[['d1','d2']].values.reshape(-1,1))\n",
    "plt.show()"
   ],
   "metadata": {
    "collapsed": false
   }
  },
  {
   "cell_type": "code",
   "execution_count": 32,
   "outputs": [],
   "source": [
    "df['d1'] = np.log(df.d1+0.00001)\n",
    "df.d2 = np.log(df.d2+0.00001)\n",
    "df.r1 = df.r1**2\n",
    "df.r2 = df.r2**2"
   ],
   "metadata": {
    "collapsed": false
   }
  },
  {
   "cell_type": "code",
   "execution_count": 33,
   "outputs": [],
   "source": [
    "r_exp_mean = df[['r1', 'r2']].values.mean()\n",
    "r_exp_std = df[['r1', 'r2']].values.std()\n",
    "d_log_mean = df[['d1', 'd2']].values.mean()\n",
    "d_log_std = df[['d1', 'd2']].values.std()\n",
    "df['r1'], df['r2'] = (df['r1'] - r_exp_mean) / r_exp_std, (df['r2'] - r_exp_mean) / r_exp_std\n",
    "df['d1'], df['d2'] = (df['d1'] - d_log_mean) / d_log_std, (df['d2'] - d_log_mean) / d_log_std\n",
    "df['r_diff'] = df['r1'] - df['r2']\n",
    "df['d_diff'] = df['d1'] - df['d2']"
   ],
   "metadata": {
    "collapsed": false
   }
  },
  {
   "cell_type": "code",
   "execution_count": 34,
   "outputs": [
    {
     "data": {
      "text/plain": "8.045780581601162"
     },
     "execution_count": 34,
     "metadata": {},
     "output_type": "execute_result"
    }
   ],
   "source": [
    "r_mean"
   ],
   "metadata": {
    "collapsed": false
   }
  },
  {
   "cell_type": "code",
   "execution_count": 35,
   "outputs": [
    {
     "data": {
      "text/plain": "64.8234762774463"
     },
     "execution_count": 35,
     "metadata": {},
     "output_type": "execute_result"
    }
   ],
   "source": [
    "r_exp_mean"
   ],
   "metadata": {
    "collapsed": false
   }
  },
  {
   "cell_type": "code",
   "execution_count": 36,
   "outputs": [
    {
     "data": {
      "text/plain": "14.65390225004166"
     },
     "execution_count": 36,
     "metadata": {},
     "output_type": "execute_result"
    }
   ],
   "source": [
    "r_exp_std"
   ],
   "metadata": {
    "collapsed": false
   }
  },
  {
   "cell_type": "code",
   "execution_count": 37,
   "outputs": [
    {
     "data": {
      "text/plain": "-4.569731300663472"
     },
     "execution_count": 37,
     "metadata": {},
     "output_type": "execute_result"
    }
   ],
   "source": [
    "d_log_mean"
   ],
   "metadata": {
    "collapsed": false
   }
  },
  {
   "cell_type": "code",
   "execution_count": 38,
   "outputs": [
    {
     "data": {
      "text/plain": "1.583048315334561"
     },
     "execution_count": 38,
     "metadata": {},
     "output_type": "execute_result"
    }
   ],
   "source": [
    "d_log_std"
   ],
   "metadata": {
    "collapsed": false
   }
  },
  {
   "cell_type": "code",
   "execution_count": 39,
   "outputs": [],
   "source": [
    "def to_minimize(w_params):\n",
    "    w = np.array(w_params)\n",
    "    df['s1'] = df[['r1', 'd1']] @ w\n",
    "    df['s2'] = df[['r2', 'd2']] @ w\n",
    "    df['s_diff'] = df['s1'] - df['s2']\n",
    "    return pd.concat((np.log(1 + np.exp(df[df['y'] == 0]['s2'] - df[df['y'] == 0]['s1'])),\n",
    "               np.log(1 + np.exp(df[df['y'] == 1]['s1'] - df[df['y'] == 1]['s2'])))).mean()"
   ],
   "metadata": {
    "collapsed": false
   }
  },
  {
   "cell_type": "code",
   "execution_count": 40,
   "outputs": [],
   "source": [
    "from scipy.optimize import minimize\n",
    "\n",
    "\n",
    "res = minimize(to_minimize,[1,1])"
   ],
   "metadata": {
    "collapsed": false
   }
  },
  {
   "cell_type": "code",
   "execution_count": 41,
   "outputs": [],
   "source": [
    "w = res.x"
   ],
   "metadata": {
    "collapsed": false
   }
  },
  {
   "cell_type": "code",
   "execution_count": 42,
   "outputs": [
    {
     "data": {
      "text/plain": "array([ 0.54223411, -1.81215978])"
     },
     "execution_count": 42,
     "metadata": {},
     "output_type": "execute_result"
    }
   ],
   "source": [
    "w"
   ],
   "metadata": {
    "collapsed": false
   }
  },
  {
   "cell_type": "markdown",
   "source": [
    "Финальный код для решения задачи"
   ],
   "metadata": {
    "collapsed": false
   }
  },
  {
   "cell_type": "code",
   "execution_count": null,
   "outputs": [],
   "source": [
    "import sys\n",
    "import math\n",
    "\n",
    "n = int(sys.stdin.readline())\n",
    "\n",
    "for _ in range(n):\n",
    "    r, d = map(float, sys.stdin.readline().split())\n",
    "    if r==-1:\n",
    "        r = 8.045780581601162\n",
    "    r = (math.exp(r) - 4214.130194409842) / 3339.7772021621736\n",
    "    d = (math.log(d + 0.0001) + 4.569731300663472) / 1.583048315334561\n",
    "    b0 = 0\n",
    "    b1 = 0.542234\n",
    "    b2 = -1.812160\n",
    "    print((b0 + r * b1 + d * b2))"
   ],
   "metadata": {
    "collapsed": false
   }
  }
 ],
 "metadata": {
  "kernelspec": {
   "display_name": "Python 3",
   "language": "python",
   "name": "python3"
  },
  "language_info": {
   "codemirror_mode": {
    "name": "ipython",
    "version": 2
   },
   "file_extension": ".py",
   "mimetype": "text/x-python",
   "name": "python",
   "nbconvert_exporter": "python",
   "pygments_lexer": "ipython2",
   "version": "2.7.6"
  }
 },
 "nbformat": 4,
 "nbformat_minor": 0
}
