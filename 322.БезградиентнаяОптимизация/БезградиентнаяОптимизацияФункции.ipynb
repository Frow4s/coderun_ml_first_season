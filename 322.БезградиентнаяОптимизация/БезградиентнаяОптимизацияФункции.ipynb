{
 "cells": [
  {
   "cell_type": "markdown",
   "source": [
    "В данной задаче нам необходимо найти локальный максимум, добавим минус к результату и вот уже получается, что нам надо найти локальный минимум, а для этого у нас есть функция minimize из библиотеки scipy, которая умеет в численную минимизацию самописных функций на python. Остается только выставить необходимые параметры, правильно написать функцию для минимизации и выбрать нужный метод. Все это сделано в коротком лаконичном коде ниже."
   ],
   "metadata": {
    "collapsed": false
   }
  },
  {
   "cell_type": "code",
   "execution_count": null,
   "outputs": [],
   "source": [
    "from scipy.optimize import minimize\n",
    "import sys\n",
    "\n",
    "bounds = ((-50, 100), (-50, 100))\n",
    "x, y, f = map(float, input().split())\n",
    "\n",
    "\n",
    "def target(x0):\n",
    "    x, y = x0\n",
    "    print(x, y)\n",
    "    znak, val = input().split()\n",
    "    if znak == '+':\n",
    "        sys.exit(0)\n",
    "    return -float(val)\n",
    "\n",
    "\n",
    "x0 = [x, y]\n",
    "res = minimize(target, x0, method='trust-constr', bounds=((-50, 100), (-50, 100)))"
   ],
   "metadata": {
    "collapsed": false
   }
  }
 ],
 "metadata": {
  "kernelspec": {
   "display_name": "Python 3",
   "language": "python",
   "name": "python3"
  },
  "language_info": {
   "codemirror_mode": {
    "name": "ipython",
    "version": 2
   },
   "file_extension": ".py",
   "mimetype": "text/x-python",
   "name": "python",
   "nbconvert_exporter": "python",
   "pygments_lexer": "ipython2",
   "version": "2.7.6"
  }
 },
 "nbformat": 4,
 "nbformat_minor": 0
}
