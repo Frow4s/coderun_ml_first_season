{
 "cells": [
  {
   "cell_type": "markdown",
   "source": [
    "Константы для MSE и MAE - это некоторая база, которую любят спрашивать на тестах, собеседованиях и прочем, а также использовать как совсем базовое решение для задачи с данными метриками. В связи с чем найти ответы про наилучшее константное значение для этих метрик не составит труда. А именно, для MSE - среднее выборки, для MAE - медиана выборки.\n",
    "С MAPE все сложнее.\n",
    "MAPE - это MAE, взвешенная по значениям y, это легко можно увидеть взглянув на их формулы. Таким образом, в то время, когда для MAE наилучшее константное предскание - медиана, для MAPE - наилучшее константное предсказание - это взвешенная медиана."
   ],
   "metadata": {
    "collapsed": false
   }
  },
  {
   "cell_type": "code",
   "execution_count": null,
   "outputs": [],
   "source": [
    "import sys\n",
    "import numpy as np\n",
    "\n",
    "n = int(sys.stdin.readline())\n",
    "arr = []\n",
    "\n",
    "for _ in range(n):\n",
    "    arr.append(int(sys.stdin.readline()))\n",
    "\n",
    "\n",
    "def weighted_median(data, weights):\n",
    "    data, weights = np.array(data).squeeze(), np.array(weights).squeeze()\n",
    "    s_data, s_weights = map(np.array, zip(*sorted(zip(data, weights))))\n",
    "    midpoint = 0.5 * sum(s_weights)\n",
    "    if any(weights > midpoint):\n",
    "        w_median = (data[weights == np.max(weights)])[0]\n",
    "    else:\n",
    "        cs_weights = np.cumsum(s_weights)\n",
    "        idx = np.where(cs_weights <= midpoint)[0][-1]\n",
    "        if cs_weights[idx] == midpoint:\n",
    "            w_median = np.mean(s_data[idx:idx+2])\n",
    "        else:\n",
    "            w_median = s_data[idx+1]\n",
    "    return w_median\n",
    "\n",
    "\n",
    "arr = np.array(arr)\n",
    "weights = 1/arr\n",
    "weights = weights/sum(weights)\n",
    "\n",
    "print(np.mean(arr))\n",
    "print(np.median(arr))\n",
    "if len(arr) == 1:\n",
    "    print(np.median(arr))\n",
    "else:\n",
    "    print(weighted_median(arr,weights))"
   ],
   "metadata": {
    "collapsed": false
   }
  }
 ],
 "metadata": {
  "kernelspec": {
   "display_name": "Python 3",
   "language": "python",
   "name": "python3"
  },
  "language_info": {
   "codemirror_mode": {
    "name": "ipython",
    "version": 2
   },
   "file_extension": ".py",
   "mimetype": "text/x-python",
   "name": "python",
   "nbconvert_exporter": "python",
   "pygments_lexer": "ipython2",
   "version": "2.7.6"
  }
 },
 "nbformat": 4,
 "nbformat_minor": 0
}
