{
 "cells": [
  {
   "cell_type": "markdown",
   "source": [
    "В данной задаче у меня представлены два решения за O(N^2^), в которых квадрат достигается при определенных условиях. [Ссылка на решение для ML Blitz 2018](https://github.com/stas-sl/yandex-blitz-ml-2018), в котором он описал ход своих мыслей. Объясняя код, скажу, что мы итерируемся по элементам и удаляем те y, для которых t[i]=t[j], иными словами они лежат на одной прямой по t. Во втором же цикле мы считаем числитель и знаменатель, так как массив отсортирован, то мы можем использовать бинарный поиск, соответственно, все элементы, что лежат слева добавляют 1 (левый бинарный поиск), а все что лежат между левой и правой границей (между левым и правым бинарным поиском) добавляют по 0.5 в числитель.\n",
    "\n",
    "Объяснение разницы левого и правого бинарного поиска.\n",
    "Задан отсортированный массив [1,2,2,2,2,3,5,8,9,11], x=2\n",
    "Правосторонний поиск двойки выдаст в результате 4, в то время как левосторонний выдаст 1 (нумерация с нуля).\n",
    "\n",
    "Отсюда следует, что количество подряд идущих двоек равно длине отрезка [1;4], то есть 4."
   ],
   "metadata": {
    "collapsed": false
   }
  },
  {
   "cell_type": "code",
   "execution_count": null,
   "outputs": [],
   "source": [
    "import bisect\n",
    "\n",
    "with open('input.txt','r') as f:\n",
    "    n = int(f.readline())\n",
    "    t, y = zip(*sorted(list(map(float, f.readline().split())) for i in range(n)))\n",
    "\n",
    "y_sorted = sorted(y)\n",
    "num = 0\n",
    "denom = 0\n",
    "i = n - 1\n",
    "\n",
    "while i >= 0:\n",
    "    j = i\n",
    "    while j >= 0 and t[i] == t[j]:\n",
    "        l = bisect.bisect_left(y_sorted, y[j])\n",
    "        y_sorted.pop(l)\n",
    "        j -= 1\n",
    "    for k in range(j + 1, i + 1):\n",
    "        l = bisect.bisect_left(y_sorted, y[k])\n",
    "        r = bisect.bisect(y_sorted, y[k])\n",
    "        num += l + (r - l) / 2\n",
    "        denom += j + 1\n",
    "    i = j\n",
    "\n",
    "with open('output.txt','w') as f:\n",
    "    f.write(str(num/denom))"
   ],
   "metadata": {
    "collapsed": false
   }
  },
  {
   "cell_type": "markdown",
   "source": [
    "Решение через Бинарное дерево. Его проблема в том, что оно не сбалансированное и в худшем случае сложность будет N^2^. Можно попробовать использовать дерево Фенвика, но до него у меня уже у руки не дошли, потому что в итоге было принято решение за N^2^."
   ],
   "metadata": {
    "collapsed": false
   }
  },
  {
   "cell_type": "code",
   "execution_count": null,
   "outputs": [],
   "source": [
    "class Node:\n",
    "    def __init__(self, x):\n",
    "        self.x = x\n",
    "        self.left_count = 0\n",
    "        self.right_count = 0\n",
    "        self.n = 1\n",
    "        self.left = None\n",
    "        self.right = None\n",
    "\n",
    "\n",
    "class BinaryTree:\n",
    "    def __init__(self):\n",
    "        self.root = None\n",
    "\n",
    "    def add(self, x):\n",
    "        if self.root is None:\n",
    "            self.root = Node(x)\n",
    "        else:\n",
    "            cur = self.root\n",
    "            while True:\n",
    "                if x == cur.x:\n",
    "                    cur.n += 1\n",
    "                    break\n",
    "                elif x < cur.x:\n",
    "                    cur.left_count += 1\n",
    "                    if cur.left is None:\n",
    "                        cur.left = Node(x)\n",
    "                        break\n",
    "                    else:\n",
    "                        cur = cur.left\n",
    "                else:\n",
    "                    cur.right_count += 1\n",
    "                    if cur.right is None:\n",
    "                        cur.right = Node(x)\n",
    "                        break\n",
    "                    else:\n",
    "                        cur = cur.right\n",
    "\n",
    "    def count_less_and_eq(self, x):\n",
    "        less = 0\n",
    "        eq = 0\n",
    "        cur = self.root\n",
    "        while cur:\n",
    "            if x == cur.x:\n",
    "                less += cur.left_count\n",
    "                eq = cur.n\n",
    "                break\n",
    "            elif x < cur.x:\n",
    "                cur = cur.left\n",
    "            else:\n",
    "                less += cur.left_count + cur.n\n",
    "                cur = cur.right\n",
    "        return less, eq\n",
    "\n",
    "\n",
    "\n",
    "with open('input.txt', 'r') as file:\n",
    "    n = int(file.readline())\n",
    "    arr = []\n",
    "    for _ in range(n):\n",
    "        true_val, prev_val = map(float, file.readline().split())\n",
    "        arr.append((true_val, prev_val))\n",
    "\n",
    "arr.sort(key=lambda x: x[0])\n",
    "\n",
    "tree = BinaryTree()\n",
    "num = 0\n",
    "denom = 0\n",
    "\n",
    "i = 0\n",
    "while i < n:\n",
    "    j = i\n",
    "    while j < n and arr[i][0] == arr[j][0]:\n",
    "        r = tree.count_less_and_eq(arr[j][1])\n",
    "        num += r[0] + r[1] / 2\n",
    "        denom += i\n",
    "        j += 1\n",
    "\n",
    "    for k in range(i, j):\n",
    "        tree.add(arr[k][1])\n",
    "\n",
    "    i = j\n",
    "\n",
    "print(num / denom)"
   ],
   "metadata": {
    "collapsed": false
   }
  }
 ],
 "metadata": {
  "kernelspec": {
   "display_name": "Python 3",
   "language": "python",
   "name": "python3"
  },
  "language_info": {
   "codemirror_mode": {
    "name": "ipython",
    "version": 2
   },
   "file_extension": ".py",
   "mimetype": "text/x-python",
   "name": "python",
   "nbconvert_exporter": "python",
   "pygments_lexer": "ipython2",
   "version": "2.7.6"
  }
 },
 "nbformat": 4,
 "nbformat_minor": 0
}
