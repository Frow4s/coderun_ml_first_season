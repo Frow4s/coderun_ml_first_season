{
 "cells": [
  {
   "cell_type": "markdown",
   "source": [
    "В данной задаче можно и нужно сгенерировать выборки для двух генераторов, визуализировать и увидеть, что они различаются лишь своим разбросом относительно центра круга. Таким образом, получается, что мы можем классифицировать генераторы на основе дисперсий выборок, которые они создают. В моем решении я выбрал порог в 0.45."
   ],
   "metadata": {
    "collapsed": false
   }
  },
  {
   "cell_type": "code",
   "execution_count": null,
   "metadata": {
    "collapsed": true
   },
   "outputs": [],
   "source": [
    "import numpy as np\n",
    "\n",
    "data = []\n",
    "with open('input.txt','r') as f:\n",
    "    for line in f:\n",
    "        data.append([float(x) for x in line.split()])\n",
    "\n",
    "res = []\n",
    "temp = np.zeros(shape=(1000,2))\n",
    "\n",
    "for i in range(100):\n",
    "    temp[:,0] = data[i][0::2]\n",
    "    temp[:,1] = data[i][1::2]\n",
    "    if temp.std()>0.45:\n",
    "        res.append(2)\n",
    "    else:\n",
    "        res.append(1)\n",
    "\n",
    "with open(\"output.txt\", \"w+\") as file:\n",
    "    file.write('\\n'.join([str(i) for i in res]))"
   ]
  }
 ],
 "metadata": {
  "kernelspec": {
   "display_name": "Python 3",
   "language": "python",
   "name": "python3"
  },
  "language_info": {
   "codemirror_mode": {
    "name": "ipython",
    "version": 2
   },
   "file_extension": ".py",
   "mimetype": "text/x-python",
   "name": "python",
   "nbconvert_exporter": "python",
   "pygments_lexer": "ipython2",
   "version": "2.7.6"
  }
 },
 "nbformat": 4,
 "nbformat_minor": 0
}
