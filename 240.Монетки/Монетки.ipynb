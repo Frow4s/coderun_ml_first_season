{
 "cells": [
  {
   "cell_type": "markdown",
   "source": [
    "В данной задаче необходимо оценить вероятность выпадения орла, но привычная нам формула k/n в данном случае не сработает. К сожалению, я не силен в таких нюансах теории вероятности, но попытаюсь объяснить. В данном случае нам необходимо использовать формулу (k+1)/(n+2), которая базируется на априорном предположении о двух дополнительных случаях: один, в котором выпадет орел, но не было предыдущих подбрасываний, и другой, в котором выпадет решка, но также не было предыдущих подбрасываний. Согласен, что звучит не очень) но не могу объяснить лучше. В итоге получаем, что данная формула лучше оценивает вероятности, когда надо сравнить две монетки. Например, в первом случае выпало 5 орлов из 10 бросков, во втором 500 из 1000, по первой формуле получаем, что вероятность и там, и там 0.5, однако, мы понимаем, что во втором случае реальная вероятность ближе к 0.5, чем в первом, и формула (k+1)/(n+2) это учитывает. Для более глубокого и что важнее корректного погружения можно использовать [следующую ссылку](https://en.wikipedia.org/wiki/Checking_whether_a_coin_is_fair). Также решение через предположения о распределении, которое ведет к такому же ответу представлено [по этой ссылке](https://github.com/stas-sl/yandex-blitz-ml-2018#n-coins)."
   ],
   "metadata": {
    "collapsed": false
   }
  },
  {
   "cell_type": "code",
   "execution_count": 17,
   "metadata": {
    "collapsed": true
   },
   "outputs": [],
   "source": [
    "import pandas as pd"
   ]
  },
  {
   "cell_type": "code",
   "execution_count": 20,
   "outputs": [],
   "source": [
    "data = pd.read_csv('coins.in',sep=' ',header=None).rename({0:'n',1:'k'},axis=1)"
   ],
   "metadata": {
    "collapsed": false
   }
  },
  {
   "cell_type": "code",
   "execution_count": 10,
   "outputs": [],
   "source": [
    "data['new_col'] = data[1]/data[0]"
   ],
   "metadata": {
    "collapsed": false
   }
  },
  {
   "cell_type": "code",
   "execution_count": 22,
   "outputs": [],
   "source": [
    "data.k = data.k+1\n",
    "data.n = data.n+2"
   ],
   "metadata": {
    "collapsed": false
   }
  },
  {
   "cell_type": "code",
   "execution_count": 23,
   "outputs": [],
   "source": [
    "data['new_col'] = data.k/data.n"
   ],
   "metadata": {
    "collapsed": false
   }
  },
  {
   "cell_type": "code",
   "execution_count": 24,
   "outputs": [],
   "source": [
    "data = data.sort_values('new_col').reset_index()"
   ],
   "metadata": {
    "collapsed": false
   }
  },
  {
   "cell_type": "code",
   "execution_count": 25,
   "outputs": [],
   "source": [
    "data['index'].to_csv('output.txt',index=None,sep=' ')"
   ],
   "metadata": {
    "collapsed": false
   }
  }
 ],
 "metadata": {
  "kernelspec": {
   "display_name": "Python 3",
   "language": "python",
   "name": "python3"
  },
  "language_info": {
   "codemirror_mode": {
    "name": "ipython",
    "version": 2
   },
   "file_extension": ".py",
   "mimetype": "text/x-python",
   "name": "python",
   "nbconvert_exporter": "python",
   "pygments_lexer": "ipython2",
   "version": "2.7.6"
  }
 },
 "nbformat": 4,
 "nbformat_minor": 0
}
