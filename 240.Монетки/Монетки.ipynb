{
 "cells": [
  {
   "cell_type": "markdown",
   "source": [
    "В данной задаче необходимо оценить вероятность выпадения орла, но привычная нам формула $\\frac{k}{n}$ в данном случае не сработает.\n",
    "В данном случае нам необходимо использовать формулу $$\\frac{k+1}{n+2}$$, которая базируется на априорном предположении о двух дополнительных случаях: один, в котором выпадет орел, и другой, в котором выпадет решка. Это [правило последовательности Лапласа](https://ru.wikipedia.org/wiki/%D0%9B%D0%BE%D0%B3%D0%B8%D1%87%D0%B5%D1%81%D0%BA%D0%B0%D1%8F_%D0%B2%D0%B5%D1%80%D0%BE%D1%8F%D1%82%D0%BD%D0%BE%D1%81%D1%82%D1%8C).\n",
    "В итоге получаем, что данная формула лучше оценивает вероятности, когда надо сравнить две монетки. Например, в первом случае выпало 5 орлов из 10 бросков, во втором 500 из 1000, по первой формуле получаем, что вероятность и там, и там 0.5, однако, мы понимаем, что во втором случае реальная вероятность ближе к 0.5, чем в первом, и формула $\\frac{k+1}{n+2}$ это учитывает.\n",
    "Также можно почитать про проверку честности монетки [следующую ссылку](https://en.wikipedia.org/wiki/Checking_whether_a_coin_is_fair). Также решение через предположения о распределении, которое ведет к такому же ответу представлено [по этой ссылке](https://github.com/stas-sl/yandex-blitz-ml-2018#n-coins)."
   ],
   "metadata": {
    "collapsed": false
   }
  },
  {
   "cell_type": "code",
   "execution_count": 17,
   "metadata": {
    "collapsed": true
   },
   "outputs": [],
   "source": [
    "import pandas as pd"
   ]
  },
  {
   "cell_type": "code",
   "execution_count": 20,
   "outputs": [],
   "source": [
    "data = pd.read_csv('coins.in',sep=' ',header=None).rename({0:'n',1:'k'},axis=1)"
   ],
   "metadata": {
    "collapsed": false
   }
  },
  {
   "cell_type": "code",
   "execution_count": 10,
   "outputs": [],
   "source": [
    "data['new_col'] = data[1]/data[0]"
   ],
   "metadata": {
    "collapsed": false
   }
  },
  {
   "cell_type": "code",
   "execution_count": 22,
   "outputs": [],
   "source": [
    "data.k = data.k+1\n",
    "data.n = data.n+2"
   ],
   "metadata": {
    "collapsed": false
   }
  },
  {
   "cell_type": "code",
   "execution_count": 23,
   "outputs": [],
   "source": [
    "data['new_col'] = data.k/data.n"
   ],
   "metadata": {
    "collapsed": false
   }
  },
  {
   "cell_type": "code",
   "execution_count": 24,
   "outputs": [],
   "source": [
    "data = data.sort_values('new_col').reset_index()"
   ],
   "metadata": {
    "collapsed": false
   }
  },
  {
   "cell_type": "code",
   "execution_count": 25,
   "outputs": [],
   "source": [
    "data['index'].to_csv('output.txt',index=None,sep=' ')"
   ],
   "metadata": {
    "collapsed": false
   }
  }
 ],
 "metadata": {
  "kernelspec": {
   "display_name": "Python 3",
   "language": "python",
   "name": "python3"
  },
  "language_info": {
   "codemirror_mode": {
    "name": "ipython",
    "version": 2
   },
   "file_extension": ".py",
   "mimetype": "text/x-python",
   "name": "python",
   "nbconvert_exporter": "python",
   "pygments_lexer": "ipython2",
   "version": "2.7.6"
  }
 },
 "nbformat": 4,
 "nbformat_minor": 0
}
