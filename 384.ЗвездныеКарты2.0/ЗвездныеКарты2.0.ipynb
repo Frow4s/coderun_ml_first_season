{
 "cells": [
  {
   "cell_type": "markdown",
   "source": [
    "Данная задача чем-то похожа на CBIR, если говорить понятным языком, то на поиск в Яндексе по картинке других похожих изображений, или текста связанного с изображением. Подобные задачи решаются с помощью представления исходного изображения в виде вектора в некотором пространстве меньшей размерности, так называемый embedding. Затем эмбеддинги сравниваются и находят ближайшие к нему, это и будут похожие изображения.\n",
    "В нашем случае изображения кодируются с помощью CLIP от OpenAI, а затем полученные эмбеддинги кластеризуются с помощью AgglomerativeClustering из sklearn. Можно попробовать другие методы кодирования и кластеризации, они тоже работают. (но не все, старушка VGG-19 у меня не сработала, то ли вектора взял большие 4000 признаков, то ли в целом сеть старовата и не смогла)"
   ],
   "metadata": {
    "collapsed": false
   }
  },
  {
   "cell_type": "code",
   "execution_count": 1,
   "outputs": [
    {
     "name": "stderr",
     "output_type": "stream",
     "text": [
      "E:\\anaconda3\\envs\\with_torch_cuda\\lib\\site-packages\\torch\\serialization.py:799: UserWarning: 'torch.load' received a zip file that looks like a TorchScript archive dispatching to 'torch.jit.load' (call 'torch.jit.load' directly to silence this warning)\n",
      "  warnings.warn(\"'torch.load' received a zip file that looks like a TorchScript archive\"\n"
     ]
    }
   ],
   "source": [
    "import torch\n",
    "import clip\n",
    "from PIL import Image\n",
    "\n",
    "device = \"cuda\" if torch.cuda.is_available() else \"cpu\"\n",
    "model, preprocess = clip.load(\"ViT-B/32\", device=device, download_root='E:\\clip')"
   ],
   "metadata": {
    "collapsed": false
   }
  },
  {
   "cell_type": "code",
   "execution_count": 2,
   "outputs": [
    {
     "name": "stderr",
     "output_type": "stream",
     "text": [
      "100%|██████████| 9605/9605 [02:00<00:00, 79.74it/s] \n"
     ]
    }
   ],
   "source": [
    "import torch\n",
    "import clip\n",
    "from PIL import Image\n",
    "\n",
    "device = \"cuda\" if torch.cuda.is_available() else \"cpu\"\n",
    "model, preprocess = clip.load(\"ViT-B/32\", device=device, download_root='E:\\clip')\n",
    "\n",
    "import os\n",
    "\n",
    "images = [i for i in os.listdir('dataset')]\n",
    "from tqdm import tqdm\n",
    "features_2 = []\n",
    "for i in tqdm(range(len(images))):\n",
    "    path = images[i]\n",
    "    image = preprocess(Image.open('dataset/'+path)).unsqueeze(0).to(device)\n",
    "    with torch.no_grad():\n",
    "        image_features = model.encode_image(image)\n",
    "    features_2.append(image_features.detach().cpu().numpy())\n",
    "\n",
    "from sklearn.decomposition import PCA\n",
    "import numpy as np\n",
    "\n",
    "pca = PCA(n_components=300)\n",
    "X = pca.fit_transform(np.array(features_2).squeeze())\n",
    "\n",
    "\n",
    "from sklearn.cluster import AgglomerativeClustering\n",
    "\n",
    "clf = AgglomerativeClustering(n_clusters=983)\n",
    "clf.fit(X)\n",
    "\n",
    "import pandas as pd\n",
    "\n",
    "res = pd.DataFrame(columns=['filename','label'])\n",
    "res['filename'] = images\n",
    "res['label'] = clf.labels_\n",
    "res.to_csv('submit.csv',index=None)"
   ],
   "metadata": {
    "collapsed": false
   }
  }
 ],
 "metadata": {
  "kernelspec": {
   "display_name": "Python 3",
   "language": "python",
   "name": "python3"
  },
  "language_info": {
   "codemirror_mode": {
    "name": "ipython",
    "version": 2
   },
   "file_extension": ".py",
   "mimetype": "text/x-python",
   "name": "python",
   "nbconvert_exporter": "python",
   "pygments_lexer": "ipython2",
   "version": "2.7.6"
  }
 },
 "nbformat": 4,
 "nbformat_minor": 0
}
