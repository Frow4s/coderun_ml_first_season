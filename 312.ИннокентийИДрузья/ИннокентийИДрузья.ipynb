{
 "cells": [
  {
   "cell_type": "markdown",
   "source": [
    "В данной задаче нам необходимо реализовать маленькую, не сильно требовательную рекомендательную систему. В качестве решения, по моему, можно использовать ту же библиотеку surprise, или код, написанный для задачи 243. РекомендательнаяСистемаSVD, или любую другую библиотеку для рекомендательных систем по типу implicit, lightFM. Большинство этих решений пройдет, проверено)\n",
    "В итоге, нам на основе существующих оценок необходимо составить матрицу user-item (в которой содержатся id-пользователя, id-заведения и оценки на пересечениях строк и столбцов), а затем с помощью любой библиотеки провести факторизацию и рекомендовать каждому пользователю от 1 до 100 заведений из города, в котором он НЕ живет.\n",
    "Я в коде ниже выбрал библиотеку implicit и каждому пользователю рекомендовал 40 заведений.\n",
    "\n",
    "P.S. Когда я пытался сделать эту задачу у меня не проходило огромное количество решений из-за того, что был сломан чекер, поэтому я углублялся все дальше, а тетрадка засорялась все сильнее и плодились ее копии с разными библиотеками. Каково же было мое удивление, когда я зашёл отправить очередное решение и увидел, что задача зачтена, а вместе с тем 80% отправленных решений также зачтены. В итоге, в качестве примера я выбрал не самое сложное, но и не самое легкое в понимании решение, для которого у меня сохранилась тетрадка в +- адекватном виде.\n",
    "P.P.S. Задача настолько не требовательное, что ходят слухи, что можно рекомендовать просто самые популярные заведения в городе или около того, что в целом и логично, но )))"
   ],
   "metadata": {
    "collapsed": false
   }
  },
  {
   "cell_type": "code",
   "execution_count": 1,
   "metadata": {
    "collapsed": true
   },
   "outputs": [],
   "source": [
    "import  pandas as pd\n",
    "import numpy as np\n",
    "from tqdm.notebook import tqdm"
   ]
  },
  {
   "cell_type": "code",
   "execution_count": 2,
   "outputs": [],
   "source": [
    "reviews = pd.read_csv('reviews.csv', index_col=0)\n",
    "reviews['rating'] = np.array(reviews.rating.fillna(0) + 1)\n",
    "orgs = pd.read_csv('organisations.csv')\n",
    "users = pd.read_csv('users.csv')\n",
    "\n",
    "# encode users ids as numeric\n",
    "reviews = reviews.merge(users, on='user_id')\n",
    "reviews = reviews.rename({'city': 'user_city'}, axis=1)\n",
    "\n",
    "# # encode orgs ids as numeric\n",
    "reviews = reviews.merge(orgs[['org_id', 'city','rubrics_id','features_id','rating','average_bill']], on='org_id')\n",
    "reviews = reviews.rename({'city': 'org_city'}, axis=1)"
   ],
   "metadata": {
    "collapsed": false
   }
  },
  {
   "cell_type": "code",
   "execution_count": 4,
   "outputs": [],
   "source": [
    "import scipy\n",
    "\n",
    "rows, r_pos = np.unique(reviews.values[:,1], return_inverse=True)\n",
    "cols, c_pos = np.unique(reviews.values[:,0], return_inverse=True)"
   ],
   "metadata": {
    "collapsed": false
   }
  },
  {
   "cell_type": "code",
   "execution_count": 5,
   "outputs": [],
   "source": [
    "interactions_sparse = scipy.sparse.csr_matrix((np.array(reviews['rating_x'],dtype=np.float64),(r_pos, c_pos)))"
   ],
   "metadata": {
    "collapsed": false
   }
  },
  {
   "cell_type": "code",
   "execution_count": 7,
   "outputs": [],
   "source": [
    "from implicit.evaluation import train_test_split\n",
    "\n",
    "train, test_set = train_test_split(interactions_sparse,0.99)"
   ],
   "metadata": {
    "collapsed": false
   }
  },
  {
   "cell_type": "code",
   "execution_count": 8,
   "outputs": [
    {
     "data": {
      "text/plain": "  0%|          | 0/10 [00:00<?, ?it/s]",
      "application/vnd.jupyter.widget-view+json": {
       "version_major": 2,
       "version_minor": 0,
       "model_id": "cdd20c19cb2d4ff880360fa3235fc457"
      }
     },
     "metadata": {},
     "output_type": "display_data"
    }
   ],
   "source": [
    "from implicit.als import AlternatingLeastSquares\n",
    "\n",
    "machine = AlternatingLeastSquares(factors = 512, iterations=10)\n",
    "\n",
    "machine.fit(train)"
   ],
   "metadata": {
    "collapsed": false
   }
  },
  {
   "cell_type": "code",
   "execution_count": 9,
   "outputs": [],
   "source": [
    "reviews['r_pos'] = r_pos\n",
    "reviews['c_pos'] = c_pos"
   ],
   "metadata": {
    "collapsed": false
   }
  },
  {
   "cell_type": "code",
   "execution_count": 10,
   "outputs": [],
   "source": [
    "test = pd.read_csv('test_users.csv',index_col=0)"
   ],
   "metadata": {
    "collapsed": false
   }
  },
  {
   "cell_type": "code",
   "execution_count": 11,
   "outputs": [],
   "source": [
    "test = test.merge(reviews,how='left')[['user_id','user_city','r_pos']].drop_duplicates('user_id')"
   ],
   "metadata": {
    "collapsed": false
   }
  },
  {
   "cell_type": "code",
   "execution_count": 12,
   "outputs": [],
   "source": [
    "orgs = reviews[['org_id','org_city','c_pos']].drop_duplicates('org_id')"
   ],
   "metadata": {
    "collapsed": false
   }
  },
  {
   "cell_type": "code",
   "execution_count": 13,
   "outputs": [],
   "source": [
    "res = []\n",
    "for indx,row in test.iterrows():\n",
    "    user_city = row['user_city']\n",
    "    user_pos = row['r_pos']\n",
    "    to_exclude = orgs[orgs.org_city != user_city].c_pos.tolist()\n",
    "    try:\n",
    "        recommend_index, scores = machine.recommend(user_pos,\n",
    "                                                    interactions_sparse[user_pos],\n",
    "                                                    items=to_exclude,\n",
    "                                                    filter_already_liked_items=True,\n",
    "                                                    N=40)\n",
    "        res.append((row['user_id'],\n",
    "                    list(cols[recommend_index])))\n",
    "    except:\n",
    "        res.append((row['user_id'],[]))\n"
   ],
   "metadata": {
    "collapsed": false
   }
  },
  {
   "cell_type": "code",
   "execution_count": 14,
   "outputs": [],
   "source": [
    "answers = pd.DataFrame(res,columns=['user_id','target'])"
   ],
   "metadata": {
    "collapsed": false
   }
  },
  {
   "cell_type": "code",
   "execution_count": 15,
   "outputs": [],
   "source": [
    "answers.to_csv('answers.csv')"
   ],
   "metadata": {
    "collapsed": false
   }
  }
 ],
 "metadata": {
  "kernelspec": {
   "display_name": "Python 3",
   "language": "python",
   "name": "python3"
  },
  "language_info": {
   "codemirror_mode": {
    "name": "ipython",
    "version": 2
   },
   "file_extension": ".py",
   "mimetype": "text/x-python",
   "name": "python",
   "nbconvert_exporter": "python",
   "pygments_lexer": "ipython2",
   "version": "2.7.6"
  }
 },
 "nbformat": 4,
 "nbformat_minor": 0
}
