{
 "cells": [
  {
   "cell_type": "markdown",
   "source": [
    "Честно говоря, не знаю почему у данной задачи сложность \"средняя\". Просто берем и обучаем линейную регрессию из библиотеки sklearn. Как можно видеть качество на отложенной выборке 2*10^-31^ , что значительно меньше 10^-8^. Не потребовалось ни EDA, да вообще ничего не потребовалось, поэтому не знаю какие комментарии ещё давать по этой задаче)"
   ],
   "metadata": {
    "collapsed": false
   }
  },
  {
   "cell_type": "code",
   "execution_count": 1,
   "metadata": {
    "collapsed": true
   },
   "outputs": [],
   "source": [
    "import pandas as pd"
   ]
  },
  {
   "cell_type": "code",
   "execution_count": 13,
   "outputs": [],
   "source": [
    "data = pd.read_table('train.tsv',header=None,index_col=None)"
   ],
   "metadata": {
    "collapsed": false
   }
  },
  {
   "cell_type": "code",
   "execution_count": 14,
   "outputs": [],
   "source": [
    "X,y = data.drop(100,axis=1),data[100]"
   ],
   "metadata": {
    "collapsed": false
   }
  },
  {
   "cell_type": "code",
   "execution_count": 19,
   "outputs": [],
   "source": [
    "from sklearn.model_selection import train_test_split\n",
    "\n",
    "X_train,X_test,y_train,y_test = train_test_split(X,y,test_size=0.2)"
   ],
   "metadata": {
    "collapsed": false
   }
  },
  {
   "cell_type": "code",
   "execution_count": 20,
   "outputs": [],
   "source": [
    "from sklearn.linear_model import LinearRegression"
   ],
   "metadata": {
    "collapsed": false
   }
  },
  {
   "cell_type": "code",
   "execution_count": 24,
   "outputs": [
    {
     "data": {
      "text/plain": "LinearRegression()",
      "text/html": "<style>#sk-container-id-1 {color: black;background-color: white;}#sk-container-id-1 pre{padding: 0;}#sk-container-id-1 div.sk-toggleable {background-color: white;}#sk-container-id-1 label.sk-toggleable__label {cursor: pointer;display: block;width: 100%;margin-bottom: 0;padding: 0.3em;box-sizing: border-box;text-align: center;}#sk-container-id-1 label.sk-toggleable__label-arrow:before {content: \"▸\";float: left;margin-right: 0.25em;color: #696969;}#sk-container-id-1 label.sk-toggleable__label-arrow:hover:before {color: black;}#sk-container-id-1 div.sk-estimator:hover label.sk-toggleable__label-arrow:before {color: black;}#sk-container-id-1 div.sk-toggleable__content {max-height: 0;max-width: 0;overflow: hidden;text-align: left;background-color: #f0f8ff;}#sk-container-id-1 div.sk-toggleable__content pre {margin: 0.2em;color: black;border-radius: 0.25em;background-color: #f0f8ff;}#sk-container-id-1 input.sk-toggleable__control:checked~div.sk-toggleable__content {max-height: 200px;max-width: 100%;overflow: auto;}#sk-container-id-1 input.sk-toggleable__control:checked~label.sk-toggleable__label-arrow:before {content: \"▾\";}#sk-container-id-1 div.sk-estimator input.sk-toggleable__control:checked~label.sk-toggleable__label {background-color: #d4ebff;}#sk-container-id-1 div.sk-label input.sk-toggleable__control:checked~label.sk-toggleable__label {background-color: #d4ebff;}#sk-container-id-1 input.sk-hidden--visually {border: 0;clip: rect(1px 1px 1px 1px);clip: rect(1px, 1px, 1px, 1px);height: 1px;margin: -1px;overflow: hidden;padding: 0;position: absolute;width: 1px;}#sk-container-id-1 div.sk-estimator {font-family: monospace;background-color: #f0f8ff;border: 1px dotted black;border-radius: 0.25em;box-sizing: border-box;margin-bottom: 0.5em;}#sk-container-id-1 div.sk-estimator:hover {background-color: #d4ebff;}#sk-container-id-1 div.sk-parallel-item::after {content: \"\";width: 100%;border-bottom: 1px solid gray;flex-grow: 1;}#sk-container-id-1 div.sk-label:hover label.sk-toggleable__label {background-color: #d4ebff;}#sk-container-id-1 div.sk-serial::before {content: \"\";position: absolute;border-left: 1px solid gray;box-sizing: border-box;top: 0;bottom: 0;left: 50%;z-index: 0;}#sk-container-id-1 div.sk-serial {display: flex;flex-direction: column;align-items: center;background-color: white;padding-right: 0.2em;padding-left: 0.2em;position: relative;}#sk-container-id-1 div.sk-item {position: relative;z-index: 1;}#sk-container-id-1 div.sk-parallel {display: flex;align-items: stretch;justify-content: center;background-color: white;position: relative;}#sk-container-id-1 div.sk-item::before, #sk-container-id-1 div.sk-parallel-item::before {content: \"\";position: absolute;border-left: 1px solid gray;box-sizing: border-box;top: 0;bottom: 0;left: 50%;z-index: -1;}#sk-container-id-1 div.sk-parallel-item {display: flex;flex-direction: column;z-index: 1;position: relative;background-color: white;}#sk-container-id-1 div.sk-parallel-item:first-child::after {align-self: flex-end;width: 50%;}#sk-container-id-1 div.sk-parallel-item:last-child::after {align-self: flex-start;width: 50%;}#sk-container-id-1 div.sk-parallel-item:only-child::after {width: 0;}#sk-container-id-1 div.sk-dashed-wrapped {border: 1px dashed gray;margin: 0 0.4em 0.5em 0.4em;box-sizing: border-box;padding-bottom: 0.4em;background-color: white;}#sk-container-id-1 div.sk-label label {font-family: monospace;font-weight: bold;display: inline-block;line-height: 1.2em;}#sk-container-id-1 div.sk-label-container {text-align: center;}#sk-container-id-1 div.sk-container {/* jupyter's `normalize.less` sets `[hidden] { display: none; }` but bootstrap.min.css set `[hidden] { display: none !important; }` so we also need the `!important` here to be able to override the default hidden behavior on the sphinx rendered scikit-learn.org. See: https://github.com/scikit-learn/scikit-learn/issues/21755 */display: inline-block !important;position: relative;}#sk-container-id-1 div.sk-text-repr-fallback {display: none;}</style><div id=\"sk-container-id-1\" class=\"sk-top-container\"><div class=\"sk-text-repr-fallback\"><pre>LinearRegression()</pre><b>In a Jupyter environment, please rerun this cell to show the HTML representation or trust the notebook. <br />On GitHub, the HTML representation is unable to render, please try loading this page with nbviewer.org.</b></div><div class=\"sk-container\" hidden><div class=\"sk-item\"><div class=\"sk-estimator sk-toggleable\"><input class=\"sk-toggleable__control sk-hidden--visually\" id=\"sk-estimator-id-1\" type=\"checkbox\" checked><label for=\"sk-estimator-id-1\" class=\"sk-toggleable__label sk-toggleable__label-arrow\">LinearRegression</label><div class=\"sk-toggleable__content\"><pre>LinearRegression()</pre></div></div></div></div></div>"
     },
     "execution_count": 24,
     "metadata": {},
     "output_type": "execute_result"
    }
   ],
   "source": [
    "reg = LinearRegression()\n",
    "\n",
    "reg.fit(X_train,y_train)"
   ],
   "metadata": {
    "collapsed": false
   }
  },
  {
   "cell_type": "code",
   "execution_count": 25,
   "outputs": [],
   "source": [
    "pred = reg.predict(X_test)"
   ],
   "metadata": {
    "collapsed": false
   }
  },
  {
   "cell_type": "code",
   "execution_count": 26,
   "outputs": [
    {
     "data": {
      "text/plain": "1.7212929467370493e-31"
     },
     "execution_count": 26,
     "metadata": {},
     "output_type": "execute_result"
    }
   ],
   "source": [
    "from sklearn.metrics import mean_squared_error\n",
    "\n",
    "mean_squared_error(y_test,pred)"
   ],
   "metadata": {
    "collapsed": false
   }
  },
  {
   "cell_type": "code",
   "execution_count": 28,
   "outputs": [
    {
     "data": {
      "text/plain": "LinearRegression()",
      "text/html": "<style>#sk-container-id-2 {color: black;background-color: white;}#sk-container-id-2 pre{padding: 0;}#sk-container-id-2 div.sk-toggleable {background-color: white;}#sk-container-id-2 label.sk-toggleable__label {cursor: pointer;display: block;width: 100%;margin-bottom: 0;padding: 0.3em;box-sizing: border-box;text-align: center;}#sk-container-id-2 label.sk-toggleable__label-arrow:before {content: \"▸\";float: left;margin-right: 0.25em;color: #696969;}#sk-container-id-2 label.sk-toggleable__label-arrow:hover:before {color: black;}#sk-container-id-2 div.sk-estimator:hover label.sk-toggleable__label-arrow:before {color: black;}#sk-container-id-2 div.sk-toggleable__content {max-height: 0;max-width: 0;overflow: hidden;text-align: left;background-color: #f0f8ff;}#sk-container-id-2 div.sk-toggleable__content pre {margin: 0.2em;color: black;border-radius: 0.25em;background-color: #f0f8ff;}#sk-container-id-2 input.sk-toggleable__control:checked~div.sk-toggleable__content {max-height: 200px;max-width: 100%;overflow: auto;}#sk-container-id-2 input.sk-toggleable__control:checked~label.sk-toggleable__label-arrow:before {content: \"▾\";}#sk-container-id-2 div.sk-estimator input.sk-toggleable__control:checked~label.sk-toggleable__label {background-color: #d4ebff;}#sk-container-id-2 div.sk-label input.sk-toggleable__control:checked~label.sk-toggleable__label {background-color: #d4ebff;}#sk-container-id-2 input.sk-hidden--visually {border: 0;clip: rect(1px 1px 1px 1px);clip: rect(1px, 1px, 1px, 1px);height: 1px;margin: -1px;overflow: hidden;padding: 0;position: absolute;width: 1px;}#sk-container-id-2 div.sk-estimator {font-family: monospace;background-color: #f0f8ff;border: 1px dotted black;border-radius: 0.25em;box-sizing: border-box;margin-bottom: 0.5em;}#sk-container-id-2 div.sk-estimator:hover {background-color: #d4ebff;}#sk-container-id-2 div.sk-parallel-item::after {content: \"\";width: 100%;border-bottom: 1px solid gray;flex-grow: 1;}#sk-container-id-2 div.sk-label:hover label.sk-toggleable__label {background-color: #d4ebff;}#sk-container-id-2 div.sk-serial::before {content: \"\";position: absolute;border-left: 1px solid gray;box-sizing: border-box;top: 0;bottom: 0;left: 50%;z-index: 0;}#sk-container-id-2 div.sk-serial {display: flex;flex-direction: column;align-items: center;background-color: white;padding-right: 0.2em;padding-left: 0.2em;position: relative;}#sk-container-id-2 div.sk-item {position: relative;z-index: 1;}#sk-container-id-2 div.sk-parallel {display: flex;align-items: stretch;justify-content: center;background-color: white;position: relative;}#sk-container-id-2 div.sk-item::before, #sk-container-id-2 div.sk-parallel-item::before {content: \"\";position: absolute;border-left: 1px solid gray;box-sizing: border-box;top: 0;bottom: 0;left: 50%;z-index: -1;}#sk-container-id-2 div.sk-parallel-item {display: flex;flex-direction: column;z-index: 1;position: relative;background-color: white;}#sk-container-id-2 div.sk-parallel-item:first-child::after {align-self: flex-end;width: 50%;}#sk-container-id-2 div.sk-parallel-item:last-child::after {align-self: flex-start;width: 50%;}#sk-container-id-2 div.sk-parallel-item:only-child::after {width: 0;}#sk-container-id-2 div.sk-dashed-wrapped {border: 1px dashed gray;margin: 0 0.4em 0.5em 0.4em;box-sizing: border-box;padding-bottom: 0.4em;background-color: white;}#sk-container-id-2 div.sk-label label {font-family: monospace;font-weight: bold;display: inline-block;line-height: 1.2em;}#sk-container-id-2 div.sk-label-container {text-align: center;}#sk-container-id-2 div.sk-container {/* jupyter's `normalize.less` sets `[hidden] { display: none; }` but bootstrap.min.css set `[hidden] { display: none !important; }` so we also need the `!important` here to be able to override the default hidden behavior on the sphinx rendered scikit-learn.org. See: https://github.com/scikit-learn/scikit-learn/issues/21755 */display: inline-block !important;position: relative;}#sk-container-id-2 div.sk-text-repr-fallback {display: none;}</style><div id=\"sk-container-id-2\" class=\"sk-top-container\"><div class=\"sk-text-repr-fallback\"><pre>LinearRegression()</pre><b>In a Jupyter environment, please rerun this cell to show the HTML representation or trust the notebook. <br />On GitHub, the HTML representation is unable to render, please try loading this page with nbviewer.org.</b></div><div class=\"sk-container\" hidden><div class=\"sk-item\"><div class=\"sk-estimator sk-toggleable\"><input class=\"sk-toggleable__control sk-hidden--visually\" id=\"sk-estimator-id-2\" type=\"checkbox\" checked><label for=\"sk-estimator-id-2\" class=\"sk-toggleable__label sk-toggleable__label-arrow\">LinearRegression</label><div class=\"sk-toggleable__content\"><pre>LinearRegression()</pre></div></div></div></div></div>"
     },
     "execution_count": 28,
     "metadata": {},
     "output_type": "execute_result"
    }
   ],
   "source": [
    "reg = LinearRegression()\n",
    "reg.fit(X,y)"
   ],
   "metadata": {
    "collapsed": false
   }
  },
  {
   "cell_type": "code",
   "execution_count": 29,
   "outputs": [],
   "source": [
    "test_data = pd.read_table('test.tsv',header=None,index_col=None)"
   ],
   "metadata": {
    "collapsed": false
   }
  },
  {
   "cell_type": "code",
   "execution_count": 30,
   "outputs": [],
   "source": [
    "pred = reg.predict(test_data)"
   ],
   "metadata": {
    "collapsed": false
   }
  },
  {
   "cell_type": "code",
   "execution_count": 37,
   "outputs": [],
   "source": [
    "pd.Series(pred).to_csv('output.csv',index=None,header=None)"
   ],
   "metadata": {
    "collapsed": false
   }
  },
  {
   "cell_type": "code",
   "execution_count": 38,
   "outputs": [
    {
     "data": {
      "text/plain": "array([0.25822782, 0.24118709, 0.29665102, 0.95457741, 0.02334326,\n       0.36751454, 0.19707804, 0.77752913, 0.90686134, 0.88359344,\n       0.05308194, 0.9794771 , 0.9556584 , 0.19200866, 0.55479525,\n       0.91739903, 0.32006895, 0.88116225, 0.90938282, 0.66715939,\n       0.29230975, 0.1894403 , 0.05936055, 0.83756917, 0.00705595,\n       0.64750468, 0.51855683, 0.02772997, 0.79370339, 0.93098786,\n       0.73718601, 0.42713718, 0.75573011, 0.17523983, 0.5954301 ,\n       0.23293957, 0.14870587, 0.23601125, 0.62775053, 0.03232687,\n       0.38919323, 0.47757061, 0.81279451, 0.58803419, 0.46969869,\n       0.99210591, 0.18528047, 0.57142602, 0.96803368, 0.20562342,\n       0.36481873, 0.18083921, 0.99709891, 0.69368137, 0.71839136,\n       0.47077571, 0.77205416, 0.42473482, 0.70205747, 0.85289158,\n       0.14177051, 0.84029226, 0.92966331, 0.5872018 , 0.85674237,\n       0.28510851, 0.88856574, 0.2781505 , 0.31797955, 0.05942245,\n       0.86865348, 0.02476375, 0.40348742, 0.20373752, 0.51836794,\n       0.91556976, 0.64671124, 0.20153746, 0.86081981, 0.6885718 ,\n       0.72462942, 0.40296886, 0.4970238 , 0.40252282, 0.95984985,\n       0.23917527, 0.51115594, 0.55975923, 0.66975523, 0.58244288,\n       0.66263239, 0.25326148, 0.25268276, 0.30068069, 0.39033178,\n       0.82724532, 0.82451912, 0.147146  , 0.32184459, 0.11815692,\n       0.65511274, 0.58877321, 0.38013301, 0.68870968, 0.47225867,\n       0.00497802, 0.19873764, 0.78963871, 0.13540441, 0.57884288,\n       0.86518122, 0.35548584, 0.8744858 , 0.01443809, 0.60697375,\n       0.48492216, 0.5332006 , 0.15614877, 0.12800308, 0.74129159,\n       0.66850128, 0.99086818, 0.58906737, 0.34908302, 0.22308006,\n       0.84802267, 0.40604482, 0.38622723, 0.16773564, 0.14118602,\n       0.47590806, 0.57716051, 0.09794928, 0.25550949, 0.09965527,\n       0.34170139, 0.62390496, 0.80368098, 0.39123605, 0.49964181,\n       0.22661662, 0.66642085, 0.23497739, 0.27248467, 0.17280947,\n       0.24102548, 0.12595522, 0.474779  , 0.65625516, 0.78127045,\n       0.14597808, 0.20882929, 0.8927037 , 0.47478625, 0.66495326,\n       0.49652678, 0.34925912, 0.82307181, 0.42059124, 0.75400144,\n       0.40070504, 0.81216791, 0.99525409, 0.59299426, 0.33306324,\n       0.6113156 , 0.40595381, 0.1338694 , 0.86371226, 0.88230394,\n       0.29234458, 0.5868152 , 0.22128891, 0.98764617, 0.74225264,\n       0.37437778, 0.69428955, 0.56820175, 0.18840517, 0.10048354,\n       0.07451487, 0.07795955, 0.18456657, 0.3071105 , 0.58049925,\n       0.92072058, 0.32271557, 0.79954986, 0.22110999, 0.82397386,\n       0.18654807, 0.19468438, 0.95487592, 0.49824012, 0.70992096,\n       0.65532568, 0.19712381, 0.84882049, 0.8763819 , 0.37680002,\n       0.57823764, 0.09118738, 0.88642345, 0.51982569, 0.86497609,\n       0.31218642, 0.04656165, 0.16292389, 0.159745  , 0.56831286,\n       0.79661496, 0.94724328, 0.99190758, 0.88674348, 0.19340995,\n       0.07328428, 0.33157542, 0.11528037, 0.6358603 , 0.66129613,\n       0.07746465, 0.75176885, 0.96756216, 0.39241471, 0.05482484,\n       0.33910202, 0.89889274, 0.09662986, 0.92334715, 0.09156402,\n       0.92210856, 0.82533738, 0.29441636, 0.02811883, 0.62740217,\n       0.24287143, 0.16433238, 0.4397925 , 0.97687025, 0.79111157,\n       0.12491159, 0.08146671, 0.84584767, 0.66325749, 0.54030807,\n       0.44684526, 0.18001768, 0.71410221, 0.10093047, 0.08534957,\n       0.48870831, 0.5673521 , 0.69317774, 0.61022114, 0.0705047 ,\n       0.42662052, 0.81033382, 0.92557244, 0.7228513 , 0.48794733,\n       0.49700294, 0.82041591, 0.79628667, 0.00622614, 0.55607949,\n       0.77752715, 0.83438355, 0.1283153 , 0.68096484, 0.57713821,\n       0.16534738, 0.50823984, 0.51946354, 0.77950996, 0.14743431,\n       0.19380547, 0.97881929, 0.30611571, 0.80836308, 0.26409781,\n       0.48750225, 0.88531887, 0.87463438, 0.0364126 , 0.79585348,\n       0.22528494, 0.77140552, 0.04044754, 0.44842432, 0.4690644 ,\n       0.11296907, 0.83950233, 0.14347427, 0.86611318, 0.25457489,\n       0.17166218, 0.36009425, 0.43585734, 0.43945535, 0.46177779,\n       0.44078225, 0.42225713, 0.7013373 , 0.4185684 , 0.96236728,\n       0.84910501, 0.24249241, 0.16112603, 0.42654383, 0.91574556,\n       0.44990077, 0.58300205, 0.68752424, 0.0266504 , 0.11857097,\n       0.49918982, 0.32648122, 0.82964047, 0.92170623, 0.85218877,\n       0.85865297, 0.0593072 , 0.85215765, 0.42577862, 0.23449917,\n       0.86148305, 0.43415913, 0.91094756, 0.63331374, 0.70796456,\n       0.0141155 , 0.26927192, 0.10971666, 0.23437613, 0.65256878,\n       0.62690504, 0.28835683, 0.44569378, 0.60040809, 0.64560717,\n       0.50708784, 0.94450662, 0.41290526, 0.64194982, 0.32914514,\n       0.79205891, 0.76571622, 0.25163612, 0.82685765, 0.0757173 ,\n       0.58025408, 0.58480618, 0.73975409, 0.35749578, 0.2273631 ,\n       0.73776603, 0.95434009, 0.76863724, 0.54716731, 0.32562265,\n       0.2510993 , 0.3803304 , 0.90721685, 0.53293683, 0.43892748,\n       0.77827044, 0.08058224, 0.64447749, 0.89874508, 0.7136539 ,\n       0.04656238, 0.2195072 , 0.89752178, 0.87065354, 0.50443069,\n       0.01603068, 0.94637398, 0.73408405, 0.13202302, 0.19296865,\n       0.06409771, 0.5298547 , 0.07856688, 0.17563513, 0.06371073,\n       0.48459217, 0.44817064, 0.28794725, 0.23391446, 0.56714478,\n       0.23535836, 0.02153924, 0.63952867, 0.81437665, 0.44825826,\n       0.39433751, 0.58849036, 0.77523016, 0.00953387, 0.48624816,\n       0.74100949, 0.95156227, 0.51516392, 0.01253288, 0.53003034,\n       0.74425156, 0.06142693, 0.7770952 , 0.13745432, 0.53849091,\n       0.06334966, 0.0868861 , 0.17277355, 0.78657817, 0.74400639,\n       0.05888313, 0.13941254, 0.81699921, 0.51801378, 0.41802032,\n       0.53768277, 0.12166673, 0.62944898, 0.51783893, 0.96393001,\n       0.27769273, 0.77190042, 0.50364336, 0.27217846, 0.86456987,\n       0.34533627, 0.12154835, 0.25569402, 0.74894923, 0.71645932,\n       0.69981925, 0.03043682, 0.17218116, 0.10681627, 0.38440403,\n       0.10465067, 0.24151618, 0.23955954, 0.43178142, 0.36464848,\n       0.31240926, 0.65730081, 0.86812724, 0.66061412, 0.75337553,\n       0.64291913, 0.25212137, 0.55212423, 0.43591538, 0.43565239,\n       0.72089518, 0.58426028, 0.94755466, 0.96839931, 0.09764578,\n       0.5348542 , 0.25704089, 0.43959967, 0.67960635, 0.08101658,\n       0.39651958, 0.91914086, 0.43623328, 0.13831425, 0.14806927,\n       0.45569735, 0.12604741, 0.05015749, 0.01155658, 0.00379356,\n       0.13212879, 0.92105801, 0.68329587, 0.26091206, 0.0951247 ,\n       0.1688419 , 0.49454183, 0.74207426, 0.41071607, 0.0461983 ,\n       0.56671504, 0.34264862, 0.04655458, 0.15157741, 0.47792298,\n       0.09650417, 0.81868689, 0.78767919, 0.69106249, 0.04879102,\n       0.01994597, 0.47656324, 0.25922461, 0.28802041, 0.49011362,\n       0.82136299, 0.44364771, 0.83379122, 0.84062847, 0.92897566,\n       0.56692188, 0.06377927, 0.57897219, 0.88195617, 0.00951887,\n       0.47470694, 0.93654723, 0.45493159, 0.61834142, 0.7857716 ,\n       0.70980378, 0.27442883, 0.2554173 , 0.58248339, 0.29496856,\n       0.1335133 , 0.78371036, 0.45073831, 0.70443983, 0.59443135,\n       0.18819345, 0.83863542, 0.10869418, 0.74187919, 0.78331518,\n       0.43110686, 0.81339864, 0.40531214, 0.95758421, 0.46101495,\n       0.58234544, 0.78991714, 0.42369012, 0.28091857, 0.30513171,\n       0.1532242 , 0.94574731, 0.82547792, 0.91795552, 0.53616737,\n       0.98792337, 0.17914597, 0.41651151, 0.59519751, 0.92770611,\n       0.24521573, 0.02859793, 0.07423392, 0.61465987, 0.22081151,\n       0.79635441, 0.7528895 , 0.19952826, 0.71386444, 0.19032682,\n       0.91486431, 0.03796037, 0.87838499, 0.95521148, 0.87612298,\n       0.87277546, 0.35383521, 0.68264226, 0.72532116, 0.98212482,\n       0.8328778 , 0.93385965, 0.14714944, 0.24844705, 0.77346984,\n       0.27380568, 0.26376853, 0.77942748, 0.29641228, 0.20867181,\n       0.32884174, 0.24173494, 0.26267497, 0.06391755, 0.89816346,\n       0.61304985, 0.2107668 , 0.15502741, 0.41656212, 0.82572748,\n       0.67750405, 0.42150726, 0.77907567, 0.93275281, 0.1750869 ,\n       0.46116303, 0.09601908, 0.97295596, 0.7795555 , 0.95814257,\n       0.49158256, 0.45986117, 0.54372262, 0.3855532 , 0.73011707,\n       0.59571651, 0.94591548, 0.49721817, 0.57265764, 0.38765614,\n       0.02366638, 0.07088055, 0.45112944, 0.67241614, 0.36744585,\n       0.19853792, 0.66725377, 0.82693924, 0.28487561, 0.95645706,\n       0.89031248, 0.27765994, 0.0912065 , 0.18939801, 0.26775718,\n       0.38073998, 0.14124108, 0.10598886, 0.18038155, 0.06863203,\n       0.46890222, 0.73498292, 0.05198657, 0.70030749, 0.5485778 ,\n       0.26702259, 0.33144152, 0.95970517, 0.43403613, 0.56984305,\n       0.11843756, 0.02356682, 0.95024484, 0.93727187, 0.71769355,\n       0.24557432, 0.24146602, 0.73797635, 0.08988986, 0.49822309,\n       0.92328352, 0.00751518, 0.81479648, 0.39145154, 0.91886126,\n       0.08922778, 0.85658165, 0.95418633, 0.57108335, 0.1365652 ,\n       0.12146868, 0.35868628, 0.81124531, 0.22689175, 0.84210562,\n       0.95395319, 0.36460036, 0.06287733, 0.47452646, 0.28174767,\n       0.05514117, 0.98586744, 0.31630159, 0.41604397, 0.57838296,\n       0.81289806, 0.05143617, 0.32397256, 0.40262573, 0.62781852,\n       0.73982887, 0.77890616, 0.03498096, 0.0497787 , 0.98033486,\n       0.63428281, 0.35944951, 0.71602327, 0.363447  , 0.88534235,\n       0.04766235, 0.94973096, 0.45885246, 0.23216889, 0.68981091,\n       0.28403307, 0.43748872, 0.73179319, 0.76696505, 0.35439823,\n       0.59727898, 0.04063478, 0.23833544, 0.9316845 , 0.09936358,\n       0.27224626, 0.34819334, 0.62030311, 0.77914572, 0.24674787,\n       0.18135368, 0.4628169 , 0.43745133, 0.61908446, 0.78517936,\n       0.29477169, 0.81515084, 0.57594838, 0.51360519, 0.01506485,\n       0.11722539, 0.19815032, 0.51894266, 0.72461453, 0.14369867,\n       0.53377177, 0.84213207, 0.70220758, 0.48405049, 0.41656826,\n       0.75965756, 0.18134297, 0.6416412 , 0.65234699, 0.28547867,\n       0.65001918, 0.11182185, 0.88834605, 0.0748161 , 0.93225857,\n       0.33245026, 0.57645023, 0.33507225, 0.36075396, 0.20227202,\n       0.25209734, 0.13106345, 0.53138957, 0.0885551 , 0.05326242,\n       0.77925076, 0.67797887, 0.36674826, 0.92417222, 0.65292806,\n       0.08907328, 0.57419449, 0.78623015, 0.54341405, 0.63331787,\n       0.72214237, 0.42102695, 0.50466479, 0.67611003, 0.59129193,\n       0.80714966, 0.95596088, 0.53027641, 0.25200851, 0.65511513,\n       0.55653099, 0.88401673, 0.62015906, 0.51923584, 0.20505476,\n       0.07712636, 0.66581181, 0.0635528 , 0.91974177, 0.97756245,\n       0.87489237, 0.2582789 , 0.88017839, 0.78201035, 0.37106234,\n       0.74229722, 0.69138829, 0.27225734, 0.38316845, 0.9273676 ,\n       0.0312405 , 0.84637355, 0.77341581, 0.55625586, 0.36563387,\n       0.46771671, 0.65868211, 0.08083961, 0.89014244, 0.44515536,\n       0.51586711, 0.57272307, 0.5846906 , 0.03005422, 0.42837031,\n       0.89084336, 0.15504901, 0.93815112, 0.27531841, 0.11080225,\n       0.4639421 , 0.85769509, 0.97016067, 0.33115829, 0.03117955,\n       0.62833859, 0.5422584 , 0.70559746, 0.39357492, 0.32310645,\n       0.18548693, 0.4149399 , 0.8301903 , 0.23077047, 0.48625361,\n       0.85627238, 0.14106706, 0.25558331, 0.98760182, 0.45337629,\n       0.80321067, 0.25890107, 0.73939254, 0.34543314, 0.68897098,\n       0.5084526 , 0.00703375, 0.61953868, 0.30608211, 0.84096118,\n       0.72663228, 0.97282055, 0.16852036, 0.0039886 , 0.59300574,\n       0.68839786, 0.97591083, 0.72553994, 0.53691827, 0.09859475,\n       0.23170636, 0.190456  , 0.14114258, 0.60738891, 0.47577198,\n       0.20346161, 0.42960825, 0.36254457, 0.65479984, 0.0084537 ,\n       0.30667605, 0.80830576, 0.83181701, 0.86360883, 0.41056226,\n       0.90241821, 0.06975441, 0.7911163 , 0.20531694, 0.35999703,\n       0.48313997, 0.03940008, 0.94854434, 0.87796928, 0.64814699,\n       0.6869092 , 0.92346057, 0.37503561, 0.1495366 , 0.22374038,\n       0.02484204, 0.69270683, 0.7473094 , 0.63896098, 0.50362969,\n       0.06011827, 0.40112368, 0.16567908, 0.45570715, 0.60550429,\n       0.25361415, 0.50053728, 0.85288557, 0.38614519, 0.24206864,\n       0.0443782 , 0.82382609, 0.81629718, 0.43612751, 0.01810337,\n       0.12410169, 0.86897006, 0.10304389, 0.50692268, 0.03113127,\n       0.25858431, 0.39684036, 0.12432122, 0.48997599, 0.0728771 ,\n       0.40977658, 0.38116874, 0.9499372 , 0.97682739, 0.94121184,\n       0.70362405, 0.5365352 , 0.34064975, 0.91897432, 0.19647676,\n       0.17489361, 0.44945027, 0.32389241, 0.12802767, 0.68184948,\n       0.71033373, 0.7570008 , 0.76386406, 0.43023942, 0.68588304,\n       0.02384607, 0.38967086, 0.397185  , 0.32928913, 0.29059043,\n       0.09273677, 0.3581365 , 0.36102646, 0.1454081 , 0.8549591 ,\n       0.62787215, 0.37168371, 0.35858265, 0.69120876, 0.87291607,\n       0.7114066 , 0.25337376, 0.35783585, 0.31766086, 0.38076631,\n       0.49981488, 0.14248758, 0.10109332, 0.49005453, 0.02763172,\n       0.23295564, 0.23931266, 0.26253404, 0.13170861, 0.8881472 ,\n       0.73950443, 0.74250614, 0.05406044, 0.07372072, 0.18072408,\n       0.21136252, 0.64529885, 0.76763304, 0.89839066, 0.66765522,\n       0.42005833, 0.56175529, 0.61853651, 0.14890116, 0.8011703 ,\n       0.79452185, 0.84181272, 0.64810124, 0.92941525, 0.71088773,\n       0.42276151, 0.02641427, 0.53593852, 0.55058157, 0.1477296 ,\n       0.75673046, 0.91859087, 0.70364767, 0.39142877, 0.59851202,\n       0.61306727, 0.42606165, 0.24575067, 0.699173  , 0.98755754,\n       0.95683271, 0.47580052, 0.85115161, 0.20455176, 0.42364493])"
     },
     "execution_count": 38,
     "metadata": {},
     "output_type": "execute_result"
    }
   ],
   "source": [
    "pred"
   ],
   "metadata": {
    "collapsed": false
   }
  },
  {
   "cell_type": "code",
   "execution_count": null,
   "outputs": [],
   "source": [],
   "metadata": {
    "collapsed": false
   }
  }
 ],
 "metadata": {
  "kernelspec": {
   "display_name": "Python 3",
   "language": "python",
   "name": "python3"
  },
  "language_info": {
   "codemirror_mode": {
    "name": "ipython",
    "version": 2
   },
   "file_extension": ".py",
   "mimetype": "text/x-python",
   "name": "python",
   "nbconvert_exporter": "python",
   "pygments_lexer": "ipython2",
   "version": "2.7.6"
  }
 },
 "nbformat": 4,
 "nbformat_minor": 0
}
